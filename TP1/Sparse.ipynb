{
 "cells": [
  {
   "cell_type": "markdown",
   "id": "brilliant-sellers",
   "metadata": {},
   "source": [
    "# MVA Cours Numerical PDEs for image analysis\n",
    "\n",
    "## TP1.1 Sparse automatic differentiation\n",
    "\n",
    "We implement a automatic differentiation class, and explore some of its applications."
   ]
  },
  {
   "cell_type": "markdown",
   "id": "modular-alexandria",
   "metadata": {},
   "source": [
    "## 0. Importing the required libraries"
   ]
  },
  {
   "cell_type": "code",
   "execution_count": 8,
   "id": "compliant-manitoba",
   "metadata": {},
   "outputs": [],
   "source": [
    "import numpy as np\n",
    "import scipy.sparse\n",
    "from matplotlib import pyplot as plt"
   ]
  },
  {
   "cell_type": "markdown",
   "id": "vocational-entrepreneur",
   "metadata": {},
   "source": [
    "## 1. Implementation"
   ]
  },
  {
   "cell_type": "code",
   "execution_count": 345,
   "id": "marked-newfoundland",
   "metadata": {},
   "outputs": [],
   "source": [
    "class Sparse:\n",
    "    \"\"\"\n",
    "    A class for Sparse, first order, forward automatic differentiation.\n",
    "    Members : \n",
    "    - x : an array of arbitrary shape (n_1,...,n_k)\n",
    "    - v : an array of shape (size_ad, n_1,...,n_k), where size_ad is arbitrary integer\n",
    "    - i : an array of shape (size_ad, n_1,...,n_k).\n",
    "    \n",
    "    Represents the following Taylor expansion, where h is a symbolic perturbation\n",
    "    x + sum(h[i[k]]*v[k] for k in range(size_ad)) + o(\\|h\\|)\n",
    "    \"\"\"\n",
    "    \n",
    "    def __init__(self,x,v,i):\n",
    "        self.x = x\n",
    "        self.v = np.asarray(v) \n",
    "        self.i = np.asarray(i)\n",
    "        assert np.shape(x) == np.shape(v)[1:]\n",
    "        assert np.shape(v) == np.shape(i)\n",
    "    \n",
    "    def __repr__(self):\n",
    "        return f\"Sparse({self.x},{self.v},{self.i})\"\n",
    "    \n",
    "    @property\n",
    "    def size_ad(self): return len(self.v)\n",
    "    @property\n",
    "    def shape(self): return self.x.shape\n",
    "    \n",
    "    def convert(self,other,sshape=None):\n",
    "        if sshape is None: sshape = self.shape\n",
    "        if isinstance(other,Sparse): \n",
    "            assert other.shape == sshape\n",
    "            return other\n",
    "        else: # Broadcast other array, otherwise won't match\n",
    "            shape_ad = (0,*sshape)\n",
    "            return Sparse(np.broadcast_to(other,sshape),\n",
    "                            np.zeros(shape_ad),np.zeros(shape_ad,dtype=int))\n",
    "    \n",
    "    # Base arithmetic operators\n",
    "    def __add__(self,other):\n",
    "        a,b = self,self.convert(other)\n",
    "        return Sparse(a.x+b.x, np.concatenate([a.v,b.v]), np.concatenate([a.i,b.i]))\n",
    "    \n",
    "    def __sub__(self,other):\n",
    "        a,b = self,self.convert(other)\n",
    "        return Sparse(a.x-b.x,np.concatenate([a.v,-b.v]), np.concatenate([a.i,b.i]))\n",
    "    \n",
    "    def __mul__(self,other):\n",
    "        a,b = self,self.convert(other)\n",
    "        return Sparse(a.x*b.x, np.concatenate([b.x*a.v,a.x*b.v]), np.concatenate([a.i,b.i]))\n",
    "\n",
    "    def __truediv__(self,other):\n",
    "        a,b = self,self.convert(other)\n",
    "        return Sparse(a.x/b.x, np.concatenate([a.v/b.x,- a.x*b.v/b.x**2]), np.concatenate([a.i,b.i]))\n",
    "\n",
    "    # Other operators\n",
    "    def __neg__(self): return Sparse(-self.x,-self.v, self.i)\n",
    "    __radd__ = __add__\n",
    "    __rmul__ = __mul__\n",
    "    def __rsub__(self,other): return self.convert(other)-self\n",
    "    def __rtruediv__(self,other): return self.convert(other)/self\n",
    "    \n",
    "    \n",
    "    # Special functions\n",
    "    def __pow__(self,r):\n",
    "        x = self.x\n",
    "        return Sparse(x**r, r*x**(r-1) * self.v, self.i)\n",
    "    \n",
    "    def sqrt(self): \n",
    "        s = np.sqrt(self.x)\n",
    "        return Sparse(s, self.v/(2*s), self.i)\n",
    "    \n",
    "    def sin(self):\n",
    "        s,c = np.sin(self.x),np.cos(self.x)\n",
    "        return Sparse(s, c*self.v, self.i)\n",
    "    \n",
    "    def cos(self):\n",
    "        s,c = np.sin(self.x),np.cos(self.x)\n",
    "        return Sparse(c,-s*self.v, self.i)\n",
    "\n",
    "    # Several dimensions\n",
    "    def __getitem__(self,key):\n",
    "        return Sparse(self.x[key],self.v[:,key], self.i[:,key])\n",
    "    def __setitem__(self,key,other):\n",
    "        a,b = self,self.convert(other,self.x[key].shape)\n",
    "        assert a.size_ad>=b.size_ad # Ensure AD data will fit\n",
    "        a.x[key]   = b.x\n",
    "        a.v[:b.size_ad,key] = b.v\n",
    "        a.v[b.size_ad:,key] = 0.\n",
    "        a.i[:b.size_ad,key] = b.i\n",
    "    def flatten(self):\n",
    "        shape_ad = (self.size_ad,-1)\n",
    "        return Sparse(np.reshape(self.x,-1),np.reshape(self.v,shape_ad), np.reshape(self.i,shape_ad))\n",
    "    def roll(self,shift,axis=0):\n",
    "        assert axis>=0\n",
    "        return Sparse(np.roll(self.x,shift,axis),np.roll(self.v,shift,axis+1),np.roll(self.i,shift,axis+1))\n",
    "    \n",
    "    def sum(self,axis):\n",
    "        assert axis==0\n",
    "        shape_ad = (self.size_ad*x.shape[0],*x.shape[1:])           \n",
    "        return Sparse(self.x.sum(axis),self.v.reshape(shape_ad),self.i.reshape(shape_ad))\n",
    "    \n",
    "    # Conversion of AD information to a sparse matrix\n",
    "    def triplets(self):\n",
    "        assert np.ndim(self.x)==1\n",
    "        return (self.v.flatten(),(np.tile(np.arange(len(self.x)),self.size_ad), self.i.flatten()))\n",
    "    def tocsr(self): return scipy.sparse.coo_matrix(self.triplets()).tocsr()\n",
    "    def spsolve(self): return scipy.sparse.linalg.spsolve(self.tocsr(),-self.x)\n",
    "        \n",
    "# Create some sample variables for testing purposes\n",
    "a = Sparse(1.,[1.,2.],[1,4]) # 1 + (h_1 + 2*h_4) + o(|h|)\n",
    "b = Sparse(2.,[3.,4.],[0,1]) # 2 + (3*h_0+4*h_1) + o(|h|)"
   ]
  },
  {
   "cell_type": "code",
   "execution_count": 346,
   "id": "suspected-cornell",
   "metadata": {},
   "outputs": [],
   "source": [
    "def close_to_zzero(a): \n",
    "    \"\"\"Checks that a Taylor expansion has its zeroth and first order components close to zero.\"\"\"\n",
    "    m = a.flatten().tocsr() # Convert AD information to sparse matrix and compress\n",
    "    return np.allclose(a.x,0) and np.allclose(m.data,0)"
   ]
  },
  {
   "cell_type": "markdown",
   "id": "dressed-copper",
   "metadata": {},
   "source": [
    "### 1.1 String representation\n",
    "\n",
    "Implement the `Sparse.__repr__` method. It should return a string containing a readable representation of the object, that (ideally) can be used to reconstruct it."
   ]
  },
  {
   "cell_type": "code",
   "execution_count": 120,
   "id": "olympic-procurement",
   "metadata": {},
   "outputs": [
    {
     "name": "stdout",
     "output_type": "stream",
     "text": [
      "Sparse(1.0,[1. 2.],[1 4])\n"
     ]
    }
   ],
   "source": [
    "print(a)"
   ]
  },
  {
   "cell_type": "markdown",
   "id": "searching-shakespeare",
   "metadata": {},
   "source": [
    "### 1.2 Arithmetic operators\n",
    "\n",
    "*Task:* Implement the `Sparse.__add__` and `Sparse.__sub__` methods. They must return a `Sparse` object, in accordance with the Taylor expansion rules.\n",
    "For instance:\n",
    "$$\n",
    "    (x+ \\sum_{1 \\leq k \\leq K} v_k h_{i_k} + o(\\|h\\|)) + (x+ \\sum_{1 \\leq k \\leq K'} v'_k h_{i'_k} + o(\\|h\\|)) \n",
    "    = (x+x') + (\\sum_{1 \\leq k \\leq K} v_k h_{i_k} + \\sum_{1 \\leq k \\leq K'} v'_k h_{i'_k}) + o(\\|h\\|)\n",
    "$$"
   ]
  },
  {
   "cell_type": "code",
   "execution_count": 100,
   "id": "heard-campus",
   "metadata": {},
   "outputs": [
    {
     "name": "stdout",
     "output_type": "stream",
     "text": [
      "Addition : a+b=Sparse(3.0,[1. 2. 3. 4.],[1 4 0 1])\n",
      "Substraction : a-b=Sparse(-1.0,[ 1.  2. -3. -4.],[1 4 0 1])\n"
     ]
    }
   ],
   "source": [
    "print(f\"Addition : {a+b=}\")     # Operator + is __add__\n",
    "print(f\"Substraction : {a-b=}\") # Operator * is __sub__"
   ]
  },
  {
   "cell_type": "code",
   "execution_count": 101,
   "id": "toxic-heather",
   "metadata": {},
   "outputs": [],
   "source": [
    "assert close_to_zzero(a+b-a-b) # Unit test for checking implementation"
   ]
  },
  {
   "cell_type": "markdown",
   "id": "wanted-prison",
   "metadata": {},
   "source": [
    "*Task:* Implement the `Dense.__mul__` method, which must be in accordance with the following Taylor expansion:\n",
    "$$\n",
    "    (x + <v,h> + o(\\|h\\|)) + (x'+<v',h>+o(\\|h\\|)) = (x x') + <(x v'+x' v),h> + o(\\|h\\|)\n",
    "$$"
   ]
  },
  {
   "cell_type": "code",
   "execution_count": 102,
   "id": "objective-chart",
   "metadata": {},
   "outputs": [
    {
     "name": "stdout",
     "output_type": "stream",
     "text": [
      "Multiplication a*b=Sparse(2.0,[2. 4. 3. 4.],[1 4 0 1])\n",
      "Division a/b=Sparse(0.5,[ 0.5   1.   -0.75 -1.  ],[1 4 0 1])\n"
     ]
    }
   ],
   "source": [
    "print(f\"Multiplication {a*b=}\")  # Operator * is __mul__\n",
    "print(f\"Division {a/b=}\")        # Operator / is __truediv__"
   ]
  },
  {
   "cell_type": "code",
   "execution_count": 103,
   "id": "behavioral-pilot",
   "metadata": {},
   "outputs": [],
   "source": [
    "assert close_to_zzero(a*b/a/b - 1) # Unit test for checking implementation"
   ]
  },
  {
   "cell_type": "markdown",
   "id": "successful-wildlife",
   "metadata": {},
   "source": [
    "### 1.3 Other arithmetic operators\n",
    "\n",
    "**Unary negation**\n",
    "\n",
    "*Task:* Implement the unary negation `Sparse.__neg__` operator."
   ]
  },
  {
   "cell_type": "code",
   "execution_count": 104,
   "id": "affecting-maple",
   "metadata": {},
   "outputs": [
    {
     "name": "stdout",
     "output_type": "stream",
     "text": [
      "Unary negation -a=Sparse(-1.0,[-1. -2.],[1 4])\n"
     ]
    }
   ],
   "source": [
    "print(f\"Unary negation {-a=}\")"
   ]
  },
  {
   "cell_type": "code",
   "execution_count": 105,
   "id": "numerous-sheriff",
   "metadata": {},
   "outputs": [],
   "source": [
    "assert close_to_zzero(-a+a) # Unit test for checking implementation"
   ]
  },
  {
   "cell_type": "markdown",
   "id": "color-hopkins",
   "metadata": {},
   "source": [
    "**Operators acting on the right**\n",
    "\n",
    "*Task:* Implement the `__rmul__` and `__rdiv__` operations, similar to the `Dense` case."
   ]
  },
  {
   "cell_type": "code",
   "execution_count": 106,
   "id": "polar-union",
   "metadata": {},
   "outputs": [
    {
     "name": "stdout",
     "output_type": "stream",
     "text": [
      "Right multiplication 2*a=Sparse(2.0,[2. 4.],[1 4])\n",
      "Right division 2/a=Sparse(2.0,[-2. -4.],[1 4])\n"
     ]
    }
   ],
   "source": [
    "print(f\"Right multiplication {2*a=}\")\n",
    "print(f\"Right division {2/a=}\")"
   ]
  },
  {
   "cell_type": "code",
   "execution_count": 107,
   "id": "worth-undergraduate",
   "metadata": {},
   "outputs": [],
   "source": [
    "assert close_to_zzero(2./(2./a) - a)"
   ]
  },
  {
   "cell_type": "markdown",
   "id": "august-timing",
   "metadata": {},
   "source": [
    "### 1.4 Special functions\n",
    "\n",
    "Special functions, whose derivative is usually known explicitly, act on Taylor expansions as \n",
    "$$\n",
    "    f(x + <v,h> + o(\\|h\\|)) = f(x) + <f'(x) v, h> + o(h).\n",
    "$$\n",
    "\n",
    "*Task:* Implement the `sqrt` and `sin` methods of the `Dense` class."
   ]
  },
  {
   "cell_type": "code",
   "execution_count": 108,
   "id": "stunning-colony",
   "metadata": {},
   "outputs": [
    {
     "name": "stdout",
     "output_type": "stream",
     "text": [
      "Square root function np.sqrt(a)=Sparse(1.0,[0.5 1. ],[1 4])\n",
      "Sine function np.sin(a)=Sparse(0.8414709848078965,[0.54030231 1.08060461],[1 4])\n"
     ]
    }
   ],
   "source": [
    "print(f\"Square root function {np.sqrt(a)=}\")\n",
    "print(f\"Sine function {np.sin(a)=}\")"
   ]
  },
  {
   "cell_type": "code",
   "execution_count": 109,
   "id": "relative-humanity",
   "metadata": {},
   "outputs": [],
   "source": [
    "assert close_to_zzero(np.sqrt(a**2)-a)\n",
    "assert close_to_zzero(np.sin(np.pi-a) - np.sin(a))"
   ]
  },
  {
   "cell_type": "markdown",
   "id": "abroad-produce",
   "metadata": {},
   "source": [
    "## 2. Application (One dimensional PDEs)"
   ]
  },
  {
   "cell_type": "code",
   "execution_count": 347,
   "id": "approximate-comfort",
   "metadata": {},
   "outputs": [],
   "source": [
    "def vector_ad(x):\n",
    "    assert np.ndim(x)==1\n",
    "    shape_ad = (1,len(x))\n",
    "    return Sparse(x,np.ones(shape_ad),np.arange(len(x)).reshape(shape_ad))"
   ]
  },
  {
   "cell_type": "code",
   "execution_count": 348,
   "id": "included-statement",
   "metadata": {},
   "outputs": [],
   "source": [
    "u = vector_ad(np.linspace(0,1,10))"
   ]
  },
  {
   "cell_type": "code",
   "execution_count": 349,
   "id": "eight-liberal",
   "metadata": {},
   "outputs": [
    {
     "data": {
      "text/plain": [
       "Sparse([1.         0.         0.11111111 0.22222222 0.33333333 0.44444444\n",
       " 0.55555556 0.66666667 0.77777778 0.88888889],[[1. 1. 1. 1. 1. 1. 1. 1. 1. 1.]],[[9 0 1 2 3 4 5 6 7 8]])"
      ]
     },
     "execution_count": 349,
     "metadata": {},
     "output_type": "execute_result"
    }
   ],
   "source": [
    "u.roll(1,0)"
   ]
  },
  {
   "cell_type": "markdown",
   "id": "surprised-corporation",
   "metadata": {},
   "source": [
    "### 2.1 Solve the Poisson equation"
   ]
  },
  {
   "cell_type": "code",
   "execution_count": 350,
   "id": "permanent-bracket",
   "metadata": {},
   "outputs": [],
   "source": [
    "X,dx = np.linspace(-np.pi,np.pi,10,retstep=True)\n",
    "def f(x): return np.sin(x)"
   ]
  },
  {
   "cell_type": "code",
   "execution_count": 351,
   "id": "interior-economy",
   "metadata": {},
   "outputs": [],
   "source": [
    "def Poisson(u,f,bc,h):\n",
    "    residue = (u.roll(1)-2*u+u.roll(-1))/h**2 - f\n",
    "    residue[0] = u[0]-bc[0]\n",
    "    residue[-1] = u[-1]-bc[1]\n",
    "    return residue"
   ]
  },
  {
   "cell_type": "code",
   "execution_count": 352,
   "id": "automatic-lyric",
   "metadata": {},
   "outputs": [],
   "source": [
    "u = vector_ad(np.zeros_like(X))\n",
    "res = Poisson(u,f(X),[1,1],dx)"
   ]
  },
  {
   "cell_type": "code",
   "execution_count": 353,
   "id": "primary-prototype",
   "metadata": {},
   "outputs": [
    {
     "data": {
      "text/plain": [
       "array([ 1.        ,  1.66954359,  2.02580029,  1.90207363,  1.3562567 ,\n",
       "        0.6437433 ,  0.09792637, -0.02580029,  0.33045641,  1.        ])"
      ]
     },
     "execution_count": 353,
     "metadata": {},
     "output_type": "execute_result"
    }
   ],
   "source": [
    "res.spsolve()"
   ]
  },
  {
   "cell_type": "code",
   "execution_count": 336,
   "id": "generic-inventory",
   "metadata": {},
   "outputs": [
    {
     "data": {
      "text/plain": [
       "Sparse([-1.          0.64278761  0.98480775  0.8660254   0.34202014 -0.34202014\n",
       " -0.8660254  -0.98480775 -0.64278761 -1.        ],[[ 1.          2.05175397  2.05175397  2.05175397  2.05175397  2.05175397\n",
       "   2.05175397  2.05175397  2.05175397  1.        ]\n",
       " [ 0.         -4.10350794 -4.10350794 -4.10350794 -4.10350794 -4.10350794\n",
       "  -4.10350794 -4.10350794 -4.10350794  0.        ]\n",
       " [ 0.          2.05175397  2.05175397  2.05175397  2.05175397  2.05175397\n",
       "   2.05175397  2.05175397  2.05175397  0.        ]],[[0 0 1 2 3 4 5 6 7 9]\n",
       " [0 1 2 3 4 5 6 7 8 9]\n",
       " [1 2 3 4 5 6 7 8 9 0]])"
      ]
     },
     "execution_count": 336,
     "metadata": {},
     "output_type": "execute_result"
    }
   ],
   "source": [
    "res"
   ]
  },
  {
   "cell_type": "code",
   "execution_count": 318,
   "id": "balanced-redhead",
   "metadata": {},
   "outputs": [],
   "source": [
    "import scipy.sparse.linalg"
   ]
  },
  {
   "cell_type": "code",
   "execution_count": 319,
   "id": "designing-essay",
   "metadata": {},
   "outputs": [
    {
     "data": {
      "text/plain": [
       "array([-1.        , -1.66954359, -2.02580029, -1.90207363, -1.3562567 ,\n",
       "       -0.6437433 , -0.09792637,  0.02580029, -0.33045641, -1.        ])"
      ]
     },
     "execution_count": 319,
     "metadata": {},
     "output_type": "execute_result"
    }
   ],
   "source": [
    "scipy.sparse.linalg.spsolve(res.tocsr(),res.x)"
   ]
  },
  {
   "cell_type": "code",
   "execution_count": 276,
   "id": "identified-impact",
   "metadata": {},
   "outputs": [],
   "source": [
    "res[0] = u[0]-1"
   ]
  },
  {
   "cell_type": "code",
   "execution_count": 272,
   "id": "necessary-thousand",
   "metadata": {},
   "outputs": [
    {
     "data": {
      "text/plain": [
       "(array([ 1.,  1.,  1.,  1.,  1.,  1.,  1.,  1.,  1.,  1.,  0., -2., -2.,\n",
       "        -2., -2., -2., -2., -2., -2., -2.,  0.,  1.,  1.,  1.,  1.,  1.,\n",
       "         1.,  1.,  1.,  1.]),\n",
       " (array([0, 1, 2, 3, 4, 5, 6, 7, 8, 9, 0, 1, 2, 3, 4, 5, 6, 7, 8, 9, 0, 1,\n",
       "         2, 3, 4, 5, 6, 7, 8, 9]),\n",
       "  array([0, 0, 1, 2, 3, 4, 5, 6, 7, 8, 0, 1, 2, 3, 4, 5, 6, 7, 8, 9, 1, 2,\n",
       "         3, 4, 5, 6, 7, 8, 9, 0])))"
      ]
     },
     "execution_count": 272,
     "metadata": {},
     "output_type": "execute_result"
    }
   ],
   "source": [
    "res.triplets()"
   ]
  },
  {
   "cell_type": "code",
   "execution_count": 273,
   "id": "acoustic-madonna",
   "metadata": {},
   "outputs": [
    {
     "data": {
      "text/plain": [
       "matrix([[ 1.,  0.,  0.,  0.,  0.,  0.,  0.,  0.,  0.,  0.],\n",
       "        [ 1., -2.,  1.,  0.,  0.,  0.,  0.,  0.,  0.,  0.],\n",
       "        [ 0.,  1., -2.,  1.,  0.,  0.,  0.,  0.,  0.,  0.],\n",
       "        [ 0.,  0.,  1., -2.,  1.,  0.,  0.,  0.,  0.,  0.],\n",
       "        [ 0.,  0.,  0.,  1., -2.,  1.,  0.,  0.,  0.,  0.],\n",
       "        [ 0.,  0.,  0.,  0.,  1., -2.,  1.,  0.,  0.,  0.],\n",
       "        [ 0.,  0.,  0.,  0.,  0.,  1., -2.,  1.,  0.,  0.],\n",
       "        [ 0.,  0.,  0.,  0.,  0.,  0.,  1., -2.,  1.,  0.],\n",
       "        [ 0.,  0.,  0.,  0.,  0.,  0.,  0.,  1., -2.,  1.],\n",
       "        [ 1.,  0.,  0.,  0.,  0.,  0.,  0.,  0.,  1., -2.]])"
      ]
     },
     "execution_count": 273,
     "metadata": {},
     "output_type": "execute_result"
    }
   ],
   "source": [
    "res.tocsr().todense()"
   ]
  },
  {
   "cell_type": "code",
   "execution_count": 274,
   "id": "operational-jumping",
   "metadata": {},
   "outputs": [
    {
     "data": {
      "text/plain": [
       "array([0, 1, 2, 3, 4, 0, 1, 2, 3, 4, 0, 1, 2, 3, 4])"
      ]
     },
     "execution_count": 274,
     "metadata": {},
     "output_type": "execute_result"
    }
   ],
   "source": [
    "np.tile(np.arange(5),3)"
   ]
  },
  {
   "cell_type": "code",
   "execution_count": null,
   "id": "transsexual-allen",
   "metadata": {},
   "outputs": [],
   "source": []
  },
  {
   "cell_type": "markdown",
   "id": "natural-mobile",
   "metadata": {},
   "source": [
    "## 2.2 Solve a non-linear PDE"
   ]
  },
  {
   "cell_type": "code",
   "execution_count": null,
   "id": "seven-nowhere",
   "metadata": {},
   "outputs": [],
   "source": []
  },
  {
   "cell_type": "code",
   "execution_count": null,
   "id": "choice-lindsay",
   "metadata": {},
   "outputs": [],
   "source": []
  }
 ],
 "metadata": {
  "kernelspec": {
   "display_name": "Python 3",
   "language": "python",
   "name": "python3"
  },
  "language_info": {
   "codemirror_mode": {
    "name": "ipython",
    "version": 3
   },
   "file_extension": ".py",
   "mimetype": "text/x-python",
   "name": "python",
   "nbconvert_exporter": "python",
   "pygments_lexer": "ipython3",
   "version": "3.9.1"
  }
 },
 "nbformat": 4,
 "nbformat_minor": 5
}
