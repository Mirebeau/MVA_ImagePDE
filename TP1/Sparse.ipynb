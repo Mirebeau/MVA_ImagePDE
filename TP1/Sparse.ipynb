{
 "cells": [
  {
   "cell_type": "markdown",
   "id": "orange-oklahoma",
   "metadata": {},
   "source": [
    "# MVA Cours Numerical PDEs for image analysis\n",
    "\n",
    "## TP1.1 Sparse automatic differentiation\n",
    "\n",
    "We implement a automatic differentiation class, using sparse storage, and explore some of its applications.\n",
    "\n",
    "**Note:** \n",
    "The purpose of these experiments is to illustrate the conceptual simplicity of automatic differentiation.\n",
    "In practical applications, it is not recommended to develop these tools from scratch, but to use a mature software package. (As we will do in next sessions.)"
   ]
  },
  {
   "cell_type": "markdown",
   "id": "expensive-davis",
   "metadata": {},
   "source": [
    "## 0. Importing the required libraries"
   ]
  },
  {
   "cell_type": "code",
   "execution_count": 33,
   "id": "found-office",
   "metadata": {},
   "outputs": [],
   "source": [
    "import numpy as np\n",
    "import scipy.sparse\n",
    "import scipy.sparse.linalg\n",
    "from matplotlib import pyplot as plt"
   ]
  },
  {
   "cell_type": "markdown",
   "id": "heavy-infrastructure",
   "metadata": {},
   "source": [
    "## 1. Implementation"
   ]
  },
  {
   "cell_type": "code",
   "execution_count": 6,
   "id": "civil-beaver",
   "metadata": {},
   "outputs": [],
   "source": [
    "class Sparse:\n",
    "    \"\"\"\n",
    "    A class for Sparse, first order, forward automatic differentiation.\n",
    "    Members : \n",
    "    - x : an array of arbitrary shape (n_1,...,n_k)\n",
    "    - v : an array of shape (size_ad, n_1,...,n_k), where size_ad is arbitrary integer\n",
    "    - i : an array of shape (size_ad, n_1,...,n_k).\n",
    "    \n",
    "    Represents the following Taylor expansion, where h is a symbolic perturbation\n",
    "    x + sum(h[i[k]]*v[k] for k in range(size_ad)) + o(\\|h\\|)\n",
    "    \"\"\"\n",
    "    \n",
    "    def __init__(self,x,v,i):\n",
    "        self.x = x\n",
    "        self.v = np.asarray(v) \n",
    "        self.i = np.asarray(i)\n",
    "        assert np.shape(x) == np.shape(v)[1:]\n",
    "        assert np.shape(v) == np.shape(i)\n",
    "    \n",
    "    def __repr__(self):\n",
    "        return f\"Sparse({self.x},{self.v},{self.i})\"\n",
    "    \n",
    "    @property\n",
    "    def size_ad(self): return len(self.v)\n",
    "    @property\n",
    "    def shape(self): return np.shape(self.x)\n",
    "    \n",
    "    def convert(self,other,sshape=None):\n",
    "        if sshape is None: sshape = self.shape\n",
    "        if isinstance(other,Sparse): \n",
    "            assert other.shape == sshape\n",
    "            return other\n",
    "        else: # Broadcast other array, otherwise won't match\n",
    "            shape_ad = (0,*sshape)\n",
    "            return Sparse(np.broadcast_to(other,sshape),\n",
    "                            np.zeros(shape_ad),np.zeros(shape_ad,dtype=int))\n",
    "    \n",
    "    # Base arithmetic operators\n",
    "    def __add__(self,other):\n",
    "        a,b = self,self.convert(other)\n",
    "        return Sparse(a.x+b.x, np.concatenate([a.v,b.v]), np.concatenate([a.i,b.i]))\n",
    "    \n",
    "    def __sub__(self,other):\n",
    "        a,b = self,self.convert(other)\n",
    "        return Sparse(a.x-b.x,np.concatenate([a.v,-b.v]), np.concatenate([a.i,b.i]))\n",
    "    \n",
    "    def __mul__(self,other):\n",
    "        a,b = self,self.convert(other)\n",
    "        return Sparse(a.x*b.x, np.concatenate([b.x*a.v,a.x*b.v]), np.concatenate([a.i,b.i]))\n",
    "\n",
    "    def __truediv__(self,other):\n",
    "        a,b = self,self.convert(other)\n",
    "        return Sparse(a.x/b.x, np.concatenate([a.v/b.x,- a.x*b.v/b.x**2]), np.concatenate([a.i,b.i]))\n",
    "\n",
    "    # Other operators\n",
    "    def __neg__(self): return Sparse(-self.x,-self.v, self.i)\n",
    "    __radd__ = __add__\n",
    "    __rmul__ = __mul__\n",
    "    def __rsub__(self,other): return self.convert(other)-self\n",
    "    def __rtruediv__(self,other): return self.convert(other)/self\n",
    "    \n",
    "    \n",
    "    # Special functions\n",
    "    def __pow__(self,r):\n",
    "        x = self.x\n",
    "        return Sparse(x**r, r*x**(r-1) * self.v, self.i)\n",
    "    \n",
    "    def sqrt(self): \n",
    "        s = np.sqrt(self.x)\n",
    "        return Sparse(s, self.v/(2*s), self.i)\n",
    "    \n",
    "    def sin(self):\n",
    "        s,c = np.sin(self.x),np.cos(self.x)\n",
    "        return Sparse(s, c*self.v, self.i)\n",
    "    \n",
    "    def cos(self):\n",
    "        s,c = np.sin(self.x),np.cos(self.x)\n",
    "        return Sparse(c,-s*self.v, self.i)\n",
    "\n",
    "    # Several dimensions\n",
    "    def __getitem__(self,key):\n",
    "        return Sparse(self.x[key],self.v[:,key], self.i[:,key])\n",
    "    def __setitem__(self,key,other):\n",
    "        a,b = self,self.convert(other,self.x[key].shape)\n",
    "        assert a.size_ad>=b.size_ad # Ensure AD data will fit\n",
    "        a.x[key]   = b.x\n",
    "        a.v[:b.size_ad,key] = b.v\n",
    "        a.v[b.size_ad:,key] = 0.\n",
    "        a.i[:b.size_ad,key] = b.i\n",
    "    def flatten(self):\n",
    "        shape_ad = (self.size_ad,-1)\n",
    "        return Sparse(np.reshape(self.x,-1),np.reshape(self.v,shape_ad), np.reshape(self.i,shape_ad))\n",
    "    \n",
    "    def sum(self,axis):\n",
    "        assert axis==0\n",
    "        shape_ad = (self.size_ad*x.shape[0],*x.shape[1:])           \n",
    "        return Sparse(self.x.sum(axis),self.v.reshape(shape_ad),self.i.reshape(shape_ad))\n",
    "    \n",
    "    # Conversion of AD information to a sparse matrix\n",
    "    def triplets(self):\n",
    "        assert np.ndim(self.x)==1\n",
    "        return (self.v.flatten(),(np.tile(np.arange(len(self.x)),self.size_ad), self.i.flatten()))\n",
    "    def tocsr(self): return scipy.sparse.coo_matrix(self.triplets()).tocsr()\n",
    "    def solve(self): return scipy.sparse.linalg.spsolve(self.tocsr(),-self.x)\n",
    "        \n",
    "# Create some sample variables for testing purposes\n",
    "a = Sparse(1.,[1.,2.],[1,4]) # 1 + (h_1 + 2*h_4) + o(|h|)\n",
    "b = Sparse(2.,[3.,4.],[0,1]) # 2 + (3*h_0+4*h_1) + o(|h|)"
   ]
  },
  {
   "cell_type": "code",
   "execution_count": 7,
   "id": "binary-atlas",
   "metadata": {},
   "outputs": [],
   "source": [
    "def close_to_zzero(a): \n",
    "    \"\"\"Checks that a Taylor expansion has its zeroth and first order components close to zero.\"\"\"\n",
    "    m = a.flatten().tocsr() # Convert AD information to sparse matrix and compress\n",
    "    return np.allclose(a.x,0) and np.allclose(m.data,0)"
   ]
  },
  {
   "cell_type": "markdown",
   "id": "exposed-truth",
   "metadata": {},
   "source": [
    "### 1.1 String representation\n",
    "\n",
    "Implement the `Sparse.__repr__` method. It should return a string containing a readable representation of the object, that (ideally) can be used to reconstruct it."
   ]
  },
  {
   "cell_type": "code",
   "execution_count": 8,
   "id": "derived-timothy",
   "metadata": {},
   "outputs": [
    {
     "name": "stdout",
     "output_type": "stream",
     "text": [
      "Sparse(1.0,[1. 2.],[1 4])\n"
     ]
    }
   ],
   "source": [
    "print(a)"
   ]
  },
  {
   "cell_type": "markdown",
   "id": "infinite-algebra",
   "metadata": {},
   "source": [
    "### 1.2 Arithmetic operators\n",
    "\n",
    "*Task:* Implement the `Sparse.__add__` and `Sparse.__sub__` methods. They must return a `Sparse` object, in accordance with the Taylor expansion rules.\n",
    "For instance:\n",
    "$$\n",
    "    (x+ \\sum_{1 \\leq k \\leq K} v_k h_{i_k} + o(\\|h\\|)) + (x+ \\sum_{1 \\leq k \\leq K'} v'_k h_{i'_k} + o(\\|h\\|)) \n",
    "    = (x+x') + (\\sum_{1 \\leq k \\leq K} v_k h_{i_k} + \\sum_{1 \\leq k \\leq K'} v'_k h_{i'_k}) + o(\\|h\\|)\n",
    "$$"
   ]
  },
  {
   "cell_type": "code",
   "execution_count": 9,
   "id": "numerical-president",
   "metadata": {},
   "outputs": [
    {
     "name": "stdout",
     "output_type": "stream",
     "text": [
      "Addition : a+b=Sparse(3.0,[1. 2. 3. 4.],[1 4 0 1])\n",
      "Substraction : a-b=Sparse(-1.0,[ 1.  2. -3. -4.],[1 4 0 1])\n"
     ]
    }
   ],
   "source": [
    "print(f\"Addition : {a+b=}\")     # Operator + is __add__\n",
    "print(f\"Substraction : {a-b=}\") # Operator * is __sub__"
   ]
  },
  {
   "cell_type": "code",
   "execution_count": 10,
   "id": "hispanic-conference",
   "metadata": {},
   "outputs": [],
   "source": [
    "assert close_to_zzero(a+b-a-b) # Unit test for checking implementation"
   ]
  },
  {
   "cell_type": "markdown",
   "id": "organizational-charity",
   "metadata": {},
   "source": [
    "*Task:* Implement the `Dense.__mul__` method, which must be in accordance with the following Taylor expansion:\n",
    "$$\n",
    "    (x + <v,h> + o(\\|h\\|)) + (x'+<v',h>+o(\\|h\\|)) = (x x') + <(x v'+x' v),h> + o(\\|h\\|)\n",
    "$$"
   ]
  },
  {
   "cell_type": "code",
   "execution_count": 11,
   "id": "historic-decrease",
   "metadata": {},
   "outputs": [
    {
     "name": "stdout",
     "output_type": "stream",
     "text": [
      "Multiplication a*b=Sparse(2.0,[2. 4. 3. 4.],[1 4 0 1])\n",
      "Division a/b=Sparse(0.5,[ 0.5   1.   -0.75 -1.  ],[1 4 0 1])\n"
     ]
    }
   ],
   "source": [
    "print(f\"Multiplication {a*b=}\")  # Operator * is __mul__\n",
    "print(f\"Division {a/b=}\")        # Operator / is __truediv__"
   ]
  },
  {
   "cell_type": "code",
   "execution_count": 12,
   "id": "collect-disorder",
   "metadata": {},
   "outputs": [],
   "source": [
    "assert close_to_zzero(a*b/a/b - 1) # Unit test for checking implementation"
   ]
  },
  {
   "cell_type": "markdown",
   "id": "exotic-nerve",
   "metadata": {},
   "source": [
    "### 1.3 Other arithmetic operators\n",
    "\n",
    "**Unary negation**\n",
    "\n",
    "*Task:* Implement the unary negation `Sparse.__neg__` operator."
   ]
  },
  {
   "cell_type": "code",
   "execution_count": 13,
   "id": "alpine-pastor",
   "metadata": {},
   "outputs": [
    {
     "name": "stdout",
     "output_type": "stream",
     "text": [
      "Unary negation -a=Sparse(-1.0,[-1. -2.],[1 4])\n"
     ]
    }
   ],
   "source": [
    "print(f\"Unary negation {-a=}\")"
   ]
  },
  {
   "cell_type": "code",
   "execution_count": 14,
   "id": "central-customer",
   "metadata": {},
   "outputs": [],
   "source": [
    "assert close_to_zzero(-a+a) # Unit test for checking implementation"
   ]
  },
  {
   "cell_type": "markdown",
   "id": "killing-apple",
   "metadata": {},
   "source": [
    "**Operators acting on the right**\n",
    "\n",
    "*Task:* Implement the `__rmul__` and `__rdiv__` operations, similar to the `Dense` case."
   ]
  },
  {
   "cell_type": "code",
   "execution_count": 15,
   "id": "offensive-window",
   "metadata": {},
   "outputs": [
    {
     "name": "stdout",
     "output_type": "stream",
     "text": [
      "Right multiplication 2*a=Sparse(2.0,[2. 4.],[1 4])\n",
      "Right division 2/a=Sparse(2.0,[-2. -4.],[1 4])\n"
     ]
    }
   ],
   "source": [
    "print(f\"Right multiplication {2*a=}\")\n",
    "print(f\"Right division {2/a=}\")"
   ]
  },
  {
   "cell_type": "code",
   "execution_count": 16,
   "id": "developmental-isolation",
   "metadata": {},
   "outputs": [],
   "source": [
    "assert close_to_zzero(2./(2./a) - a)"
   ]
  },
  {
   "cell_type": "markdown",
   "id": "thousand-masters",
   "metadata": {},
   "source": [
    "### 1.4 Special functions\n",
    "\n",
    "Special functions, whose derivative is usually known explicitly, act on Taylor expansions as \n",
    "$$\n",
    "    f(x + <v,h> + o(\\|h\\|)) = f(x) + <f'(x) v, h> + o(h).\n",
    "$$\n",
    "\n",
    "*Task:* Implement the `sqrt` and `sin` methods of the `Dense` class."
   ]
  },
  {
   "cell_type": "code",
   "execution_count": 17,
   "id": "superior-blond",
   "metadata": {},
   "outputs": [
    {
     "name": "stdout",
     "output_type": "stream",
     "text": [
      "Square root function np.sqrt(a)=Sparse(1.0,[0.5 1. ],[1 4])\n",
      "Sine function np.sin(a)=Sparse(0.8414709848078965,[0.54030231 1.08060461],[1 4])\n"
     ]
    }
   ],
   "source": [
    "print(f\"Square root function {np.sqrt(a)=}\")\n",
    "print(f\"Sine function {np.sin(a)=}\")"
   ]
  },
  {
   "cell_type": "code",
   "execution_count": 18,
   "id": "expired-typing",
   "metadata": {},
   "outputs": [],
   "source": [
    "assert close_to_zzero(np.sqrt(a**2)-a)\n",
    "assert close_to_zzero(np.sin(np.pi-a) - np.sin(a))"
   ]
  },
  {
   "cell_type": "markdown",
   "id": "economic-cowboy",
   "metadata": {},
   "source": [
    "## 2. Application to PDEs (One dimensional)\n",
    "\n",
    "In this section, we apply the `Sparse` automatic differentiation class constructed to the solution of one dimensional PDEs.\n",
    "\n",
    "**Disclaimer.** The examples presented below are only meant to illustrate how the `Sparse` automatic differentiation can be conveniently used to solve linear and non-linear PDEs. They have absolutely no interest for image processing and analysis (this will come in the next sessions).\n",
    "\n",
    "Similar to the `Dense` case, we need to construct vectors with an independent symbolic perturbation for each coordinate.\n",
    "\n",
    "*Task:* Implement the method `vector_ad` below which takes as input a vector $(x_i)_{1 \\leq i \\leq I}$ and returns a `Sparse` AD variable representing with an independent symbolic perturbation for each coordinate:\n",
    "$$\n",
    "    (x_i + h_i + o(\\|h\\|))_{1 \\leq i \\leq I}.\n",
    "$$"
   ]
  },
  {
   "cell_type": "code",
   "execution_count": 19,
   "id": "charitable-contribution",
   "metadata": {},
   "outputs": [],
   "source": [
    "def vector_ad(x):\n",
    "    assert np.ndim(x)==1\n",
    "    shape_ad = (1,len(x))\n",
    "    return Sparse(x,np.ones(shape_ad),np.arange(len(x)).reshape(shape_ad))"
   ]
  },
  {
   "cell_type": "code",
   "execution_count": 20,
   "id": "artificial-cargo",
   "metadata": {},
   "outputs": [],
   "source": [
    "x = np.linspace(0,1,10)\n",
    "x_ad = vector_ad(x)"
   ]
  },
  {
   "cell_type": "code",
   "execution_count": 21,
   "id": "established-trouble",
   "metadata": {},
   "outputs": [
    {
     "name": "stdout",
     "output_type": "stream",
     "text": [
      "Sparse([0.         0.11111111 0.22222222 0.33333333 0.44444444 0.55555556\n",
      " 0.66666667 0.77777778 0.88888889 1.        ],[[1. 1. 1. 1. 1. 1. 1. 1. 1. 1.]],[[0 1 2 3 4 5 6 7 8 9]])\n"
     ]
    }
   ],
   "source": [
    "print(x_ad)"
   ]
  },
  {
   "cell_type": "markdown",
   "id": "selected-color",
   "metadata": {},
   "source": [
    "The first matrix representing the first order perturbations is the identity."
   ]
  },
  {
   "cell_type": "code",
   "execution_count": 22,
   "id": "protective-vocabulary",
   "metadata": {},
   "outputs": [
    {
     "name": "stdout",
     "output_type": "stream",
     "text": [
      "[[1. 0. 0. 0. 0. 0. 0. 0. 0. 0.]\n",
      " [0. 1. 0. 0. 0. 0. 0. 0. 0. 0.]\n",
      " [0. 0. 1. 0. 0. 0. 0. 0. 0. 0.]\n",
      " [0. 0. 0. 1. 0. 0. 0. 0. 0. 0.]\n",
      " [0. 0. 0. 0. 1. 0. 0. 0. 0. 0.]\n",
      " [0. 0. 0. 0. 0. 1. 0. 0. 0. 0.]\n",
      " [0. 0. 0. 0. 0. 0. 1. 0. 0. 0.]\n",
      " [0. 0. 0. 0. 0. 0. 0. 1. 0. 0.]\n",
      " [0. 0. 0. 0. 0. 0. 0. 0. 1. 0.]\n",
      " [0. 0. 0. 0. 0. 0. 0. 0. 0. 1.]]\n"
     ]
    }
   ],
   "source": [
    "print(x_ad.tocsr().todense())"
   ]
  },
  {
   "cell_type": "code",
   "execution_count": 23,
   "id": "recognized-newton",
   "metadata": {},
   "outputs": [],
   "source": [
    "assert np.allclose(x_ad.tocsr().todense(),np.eye(len(x)))"
   ]
  },
  {
   "cell_type": "markdown",
   "id": "intermediate-reconstruction",
   "metadata": {},
   "source": [
    "### 2.1 Solve the Poisson equation\n",
    "\n",
    "We solve the Poisson equation with boundary conditions, which reads\n",
    "$$\n",
    "    - u''(x) = f(x), \\forall x \\in ]x_0,x_1[,\n",
    "    \\qquad\n",
    "    u(x_0) = u_0, \\ u(x_1) = u_1 \n",
    "$$\n",
    "where $[x_0,x_1]\\subset R$ is an interval, the PDE domain, $f : [s_0,s_1] \\to R$ is a given r.h.s, and $u_0,u_1$ are given Dirichlet boundary conditions.\n",
    "\n",
    "**Note:** in the next sessions, we will solve multi-dimensional anisotropic variants of the Poisson equation, with applications to image denoising and enhancement."
   ]
  },
  {
   "cell_type": "code",
   "execution_count": 24,
   "id": "attempted-context",
   "metadata": {},
   "outputs": [],
   "source": [
    "X,dx = np.linspace(-np.pi,np.pi,10,retstep=True) # Only 10 grid points for plotting matrices.\n",
    "f = np.sin(X)+np.abs(x)\n",
    "bc = [0,1]"
   ]
  },
  {
   "cell_type": "code",
   "execution_count": 25,
   "id": "blank-looking",
   "metadata": {},
   "outputs": [],
   "source": [
    "def roll(a,shift):\n",
    "    \"\"\"Roll a numpy array or a Sparse variable, along first axis, by prescribed shift\"\"\"\n",
    "    if isinstance(a,np.ndarray): return np.roll(a,shift,axis=0)\n",
    "    else: return Sparse(np.roll(a.x,shift,axis=0),np.roll(a.v,shift,axis=1),np.roll(a.i,shift,axis=1))"
   ]
  },
  {
   "cell_type": "markdown",
   "id": "breeding-railway",
   "metadata": {},
   "source": [
    "*Task:* Implement a function `Poisson(u,f,bc,h)` which returns the residue of the following numerical scheme\n",
    "$$\n",
    "    \\frac{u(x+h)-2 u(x) + u(x-h)}{h^2} + f(x) = 0, x \\in \\{x_0+h, x_0+2h, \\cdots, x_1-h\\} \\qquad\n",
    "    u(x_0) - u_0 = 0, u(x_1)-u_1 = 0.\n",
    "$$"
   ]
  },
  {
   "cell_type": "code",
   "execution_count": 26,
   "id": "returning-innocent",
   "metadata": {},
   "outputs": [],
   "source": [
    "def Poisson(u,f,bc,dx):\n",
    "    residue = -(roll(u,1)-2*u+roll(u,-1))/dx**2 - f\n",
    "    residue[0] = u[0]-bc[0]\n",
    "    residue[-1] = u[-1]-bc[1]\n",
    "    return residue"
   ]
  },
  {
   "cell_type": "code",
   "execution_count": 27,
   "id": "middle-transcript",
   "metadata": {},
   "outputs": [
    {
     "data": {
      "text/plain": [
       "array([ 0.        ,  0.5316765 ,  0.76258553,  0.53269207, -0.1024243 ,\n",
       "       -0.8975757 , -1.53269207, -1.76258553, -1.5316765 , -1.        ])"
      ]
     },
     "execution_count": 27,
     "metadata": {},
     "output_type": "execute_result"
    }
   ],
   "source": [
    "u = np.zeros_like(X)\n",
    "Poisson(u,f,bc,dx) # Non-zero residue : u is not the solution"
   ]
  },
  {
   "cell_type": "code",
   "execution_count": 28,
   "id": "informal-madagascar",
   "metadata": {},
   "outputs": [],
   "source": [
    "u_ad = vector_ad(u)\n",
    "res = Poisson(u_ad,f,bc,dx)"
   ]
  },
  {
   "cell_type": "code",
   "execution_count": 29,
   "id": "atomic-expense",
   "metadata": {},
   "outputs": [
    {
     "name": "stdout",
     "output_type": "stream",
     "text": [
      "[[ 1.    0.    0.    0.    0.    0.    0.    0.    0.    0.  ]\n",
      " [-2.05  4.1  -2.05  0.    0.    0.    0.    0.    0.    0.  ]\n",
      " [ 0.   -2.05  4.1  -2.05  0.    0.    0.    0.    0.    0.  ]\n",
      " [ 0.    0.   -2.05  4.1  -2.05  0.    0.    0.    0.    0.  ]\n",
      " [ 0.    0.    0.   -2.05  4.1  -2.05  0.    0.    0.    0.  ]\n",
      " [ 0.    0.    0.    0.   -2.05  4.1  -2.05  0.    0.    0.  ]\n",
      " [ 0.    0.    0.    0.    0.   -2.05  4.1  -2.05  0.    0.  ]\n",
      " [ 0.    0.    0.    0.    0.    0.   -2.05  4.1  -2.05  0.  ]\n",
      " [ 0.    0.    0.    0.    0.    0.    0.   -2.05  4.1  -2.05]\n",
      " [ 0.    0.    0.    0.    0.    0.    0.    0.    0.    1.  ]]\n"
     ]
    }
   ],
   "source": [
    "print(res.tocsr().todense().round(2)) # One should recognize the matrix of a Laplacian with second order finite differences."
   ]
  },
  {
   "cell_type": "markdown",
   "id": "foreign-lotus",
   "metadata": {},
   "source": [
    "Consider a Taylor expansion written in the generic form\n",
    "$$\n",
    "    x + L h + o(h)\n",
    "$$\n",
    "where $x\\in R^n$ is a *vector*, $L$ is a *matrix* of size $m \\times n$, and $h \\in R^m$ is a symbolic perturbation.\n",
    "\n",
    "Our `Sparse` class encodes Taylor expansions of this form, where $L$ is given in ad-hoc format.\n",
    "The `Sparse.solve` returns the solution $h_*$, if it exists, of \n",
    "$$\n",
    "    x+L h_* = 0\n",
    "$$\n",
    "\n",
    "*Task:* use this method to solve the finite differences scheme of the Poisson equation."
   ]
  },
  {
   "cell_type": "code",
   "execution_count": 34,
   "id": "direct-automation",
   "metadata": {},
   "outputs": [],
   "source": [
    "sol = res.solve()"
   ]
  },
  {
   "cell_type": "code",
   "execution_count": 35,
   "id": "super-fluid",
   "metadata": {},
   "outputs": [],
   "source": [
    "assert np.allclose(Poisson(sol,f,bc,dx),0)"
   ]
  },
  {
   "cell_type": "code",
   "execution_count": 42,
   "id": "amended-equality",
   "metadata": {},
   "outputs": [
    {
     "data": {
      "image/png": "[encoded data removed]",
      "text/plain": [
       "<Figure size 432x288 with 1 Axes>"
      ]
     },
     "metadata": {
      "needs_background": "light"
     },
     "output_type": "display_data"
    }
   ],
   "source": [
    "plt.title(\"Solution to a Poisson equation\")\n",
    "plt.plot(X,sol);"
   ]
  },
  {
   "cell_type": "markdown",
   "id": "christian-template",
   "metadata": {},
   "source": [
    "*Task:* Repeat the above with a larger number of discretization points. \n",
    "You may also, check the validity of the result using an instance of the Poisson problem with a known solution."
   ]
  },
  {
   "cell_type": "markdown",
   "id": "judicial-officer",
   "metadata": {},
   "source": [
    "### 2.2 Solve a non-linear PDE\n",
    "\n",
    "We propose to implement and solve the following non-linear PDE\n",
    "$$\n",
    "    -\\epsilon \\Delta u + u'^2 = f,\n",
    "    \\qquad u(0)=u_0, u(1)=u_1.\n",
    "$$\n",
    "(This is a viscous relaxation of the one-dimensional eikonal equation.)\n",
    "\n",
    "**Note:** in the next sessions, we will solve multi-dimensional anistropic variants of the eikonal equation, with applications to image segmentation.\n",
    "\n",
    "*Task:* Implement a centered finite-differences scheme for the above PDE."
   ]
  },
  {
   "cell_type": "code",
   "execution_count": 37,
   "id": "chemical-preparation",
   "metadata": {},
   "outputs": [],
   "source": [
    "def Nonlinear(u,f,eps,bc,dx):\n",
    "    \"\"\"Residue of the discretization of the nonlinear PDE -eps*u'' + u'^2 = f, with provided boundary conditions\"\"\"\n",
    "    residue = - eps*(roll(u,1)-2*u+roll(u,-1))/dx**2 + (roll(u,1)-roll(u,-1))**2/(2*dx)**2 - f\n",
    "    residue[0] = u[0]-bc[0]\n",
    "    residue[-1] = u[-1]-bc[1]\n",
    "    return residue"
   ]
  },
  {
   "cell_type": "markdown",
   "id": "vietnamese-testing",
   "metadata": {},
   "source": [
    "*Task:* Implement a newton solver based on sparse automatic differentiation."
   ]
  },
  {
   "cell_type": "code",
   "execution_count": 38,
   "id": "appreciated-china",
   "metadata": {},
   "outputs": [],
   "source": [
    "def Newton(F,x,niter,params=tuple()):\n",
    "    x_ad = vector_ad(x.copy())\n",
    "    for i in range(niter):\n",
    "        x_ad.x += F(x_ad,*params).solve()\n",
    "    return x_ad.x"
   ]
  },
  {
   "cell_type": "code",
   "execution_count": 39,
   "id": "stylish-extension",
   "metadata": {},
   "outputs": [],
   "source": [
    "X,dx = np.linspace(0,1,retstep=True)\n",
    "f = 1\n",
    "eps=0.1\n",
    "bc=[0,0.5]\n",
    "\n",
    "params = (f,eps,bc,dx)\n",
    "u=np.zeros_like(X)"
   ]
  },
  {
   "cell_type": "code",
   "execution_count": 40,
   "id": "early-warehouse",
   "metadata": {},
   "outputs": [],
   "source": [
    "sol = Newton(Nonlinear,u,10,params=params)"
   ]
  },
  {
   "cell_type": "code",
   "execution_count": 41,
   "id": "crazy-reception",
   "metadata": {},
   "outputs": [
    {
     "data": {
      "image/png": "[encoded data removed]",
      "text/plain": [
       "<Figure size 432x288 with 1 Axes>"
      ]
     },
     "metadata": {
      "needs_background": "light"
     },
     "output_type": "display_data"
    }
   ],
   "source": [
    "plt.title(\"Solution to a relaxed eikonal equation.\")\n",
    "plt.plot(X,sol);"
   ]
  },
  {
   "cell_type": "code",
   "execution_count": null,
   "id": "juvenile-account",
   "metadata": {},
   "outputs": [],
   "source": []
  }
 ],
 "metadata": {
  "kernelspec": {
   "display_name": "Python 3",
   "language": "python",
   "name": "python3"
  },
  "language_info": {
   "codemirror_mode": {
    "name": "ipython",
    "version": 3
   },
   "file_extension": ".py",
   "mimetype": "text/x-python",
   "name": "python",
   "nbconvert_exporter": "python",
   "pygments_lexer": "ipython3",
   "version": "3.9.1"
  }
 },
 "nbformat": 4,
 "nbformat_minor": 5
}
