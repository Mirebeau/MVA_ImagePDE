{
 "cells": [
  {
   "cell_type": "markdown",
   "id": "loose-teacher",
   "metadata": {},
   "source": [
    "# MVA Cours Numerical PDEs for image analysis\n",
    "\n",
    "## TP1.1 Dense automatic differentiation\n",
    "\n",
    "We implement a automatic differentiation class, and explore some of its applications."
   ]
  },
  {
   "cell_type": "markdown",
   "id": "proof-answer",
   "metadata": {},
   "source": [
    "## 0. Importing the required libraries"
   ]
  },
  {
   "cell_type": "code",
   "execution_count": 457,
   "id": "overhead-interference",
   "metadata": {},
   "outputs": [],
   "source": [
    "import numpy as np\n",
    "from matplotlib import pyplot as plt"
   ]
  },
  {
   "cell_type": "markdown",
   "id": "perfect-celtic",
   "metadata": {},
   "source": [
    "## 1. Implementation"
   ]
  },
  {
   "cell_type": "code",
   "execution_count": 459,
   "id": "allied-doctor",
   "metadata": {},
   "outputs": [],
   "source": [
    "class Dense:\n",
    "    \"\"\"\n",
    "    A class for Dense, first order, forward automatic differentiation.\n",
    "    Members : \n",
    "    - x : an array of arbitrary shape (n_1,...,n_k)\n",
    "    - v : an array of shape (size_ad, n_1,...,n_k), where size_ad is arbitrary integer\n",
    "    \n",
    "    Represents the following Taylor expansion, where h is a symbolic perturbation\n",
    "    x + sum(h[i]*v[i] for i in range(size_ad)) + o(\\|h\\|)\n",
    "    \"\"\"\n",
    "    \n",
    "    def __init__(self,x,v):\n",
    "        self.x = x\n",
    "        self.v = np.asarray(v) if isinstance(v,(list,tuple)) else v\n",
    "        assert np.shape(x) == np.shape(v)[1:]\n",
    "    \n",
    "    def __repr__(self):\n",
    "        return f\"Dense({self.x},{self.v})\"\n",
    "    \n",
    "    @property\n",
    "    def size_ad(self): return len(self.v)\n",
    "    \n",
    "    def convert(self,other):\n",
    "        if isinstance(other,Dense): # Checks that self and other have matching size_ad\n",
    "            assert self.size_ad==other.size_ad \n",
    "            return other\n",
    "        else: # Return valid Dense object with matching size_ad\n",
    "            return Dense(other,np.zeros(shape=(self.size_ad,*np.shape(other))))\n",
    "    \n",
    "    # Base arithmetic operators\n",
    "    def __add__(self,other):\n",
    "        a,b = self,self.convert(other)\n",
    "        return Dense(a.x+b.x, a.v+b.v)\n",
    "    \n",
    "    def __sub__(self,other):\n",
    "        a,b = self,self.convert(other)\n",
    "        return Dense(a.x-b.x,a.v-b.v)\n",
    "    \n",
    "    def __mul__(self,other):\n",
    "        a,b = self,self.convert(other)\n",
    "        return Dense(a.x*b.x, a.x*b.v + a.v*b.x)\n",
    "\n",
    "    def __truediv__(self,other):\n",
    "        a,b = self,self.convert(other)\n",
    "        return Dense(a.x/b.x, a.v/b.x - a.x*b.v/b.x**2)\n",
    "\n",
    "    # Other operators\n",
    "    def __neg__(self): return Dense(-self.x,-self.v)\n",
    "    __radd__ = __add__\n",
    "    __rmul__ = __mul__\n",
    "    def __rsub__(self,other): return self.convert(other)-self\n",
    "    def __rtruediv__(self,other): return self.convert(other)/self\n",
    "    \n",
    "    \n",
    "    # Special functions\n",
    "    def __pow__(self,r):\n",
    "        x,v = self.x,self.v\n",
    "        return Dense(x**r, r*x**(r-1) * v)\n",
    "    \n",
    "    def sqrt(self): \n",
    "        s = np.sqrt(self.x)\n",
    "        return Dense(s,self.v/(2*s))\n",
    "    \n",
    "    def sin(self):\n",
    "        s,c = np.sin(self.x),np.cos(self.x)\n",
    "        return Dense(s,c*self.v)\n",
    "    \n",
    "    def cos(self):\n",
    "        s,c = np.sin(self.x),np.cos(self.x)\n",
    "        return Dense(c,-s*self.v)\n",
    "\n",
    "\n",
    "    # Several dimensions\n",
    "    def __getitem__(self,key):\n",
    "        return Dense(self.x[key],self.v[:,key])\n",
    "    def __setitem__(self,key,other):\n",
    "        a,b = self,self.convert(other)\n",
    "        a.x[key]   = b.x[key]\n",
    "        a.v[:,key] = b.v[:,key]\n",
    "\n",
    "    def sum(self,axis):\n",
    "        assert axis>=0\n",
    "        return Dense(self.x.sum(axis),self.v.sum(axis+1))\n",
    "    \n",
    "# Create some sample variables for testing purposes\n",
    "a = Dense(1.,[1.,2.]) # 1 + (h_0 + 2*h_1) + o(|h|)\n",
    "b = Dense(2.,[3.,4.]) # 2 + (3*h_0+4*h_1) + o(|h|)"
   ]
  },
  {
   "cell_type": "code",
   "execution_count": 171,
   "id": "comparative-senate",
   "metadata": {},
   "outputs": [],
   "source": [
    "def close_to_zzero(a): \n",
    "    \"\"\"Checks that a Taylor expansion has its zeroth and first order components close to zero.\"\"\"\n",
    "    return np.allclose(a.x,0) and np.allclose(a.v,0)"
   ]
  },
  {
   "cell_type": "markdown",
   "id": "controlled-brief",
   "metadata": {},
   "source": [
    "### 1.1 String representation\n",
    "\n",
    "Implement the `Dense.__repr__` method. It should return a string containing a readable representation of the object, that (ideally) can be used to reconstruct it."
   ]
  },
  {
   "cell_type": "code",
   "execution_count": 172,
   "id": "decreased-awareness",
   "metadata": {},
   "outputs": [
    {
     "name": "stdout",
     "output_type": "stream",
     "text": [
      "I got the variables : 1 and bla (and also z=[1, 2, 3])\n"
     ]
    }
   ],
   "source": [
    "# Hint : Python's string formatting syntax\n",
    "x,y,z = 1,'bla',[1,2,3]\n",
    "print(f\"I got the variables : {x} and {y} (and also {z=})\")"
   ]
  },
  {
   "cell_type": "code",
   "execution_count": 173,
   "id": "peaceful-buffer",
   "metadata": {},
   "outputs": [
    {
     "name": "stdout",
     "output_type": "stream",
     "text": [
      "Dense(1.0,[1. 2.])\n"
     ]
    }
   ],
   "source": [
    "print(a)"
   ]
  },
  {
   "cell_type": "markdown",
   "id": "defensive-policy",
   "metadata": {},
   "source": [
    "### 1.2 Arithmetic operators\n",
    "\n",
    "*Task:* Implement the `Dense.__add__` and `Dense.__sub__` methods. They must return a `Dense` object, in accordance with the Taylor expansion rules.\n",
    "For instance:\n",
    "$$\n",
    "    (x + <v,h> + o(\\|h\\|)) + (x'+<v',h>+o(\\|h\\|)) = (x+x') + <(v+v'),h> + o(\\|h\\|)\n",
    "$$"
   ]
  },
  {
   "cell_type": "code",
   "execution_count": 117,
   "id": "another-country",
   "metadata": {},
   "outputs": [
    {
     "name": "stdout",
     "output_type": "stream",
     "text": [
      "Addition : a+b=Dense(3.0,[4. 6.])\n",
      "Substraction : a-b=Dense(-1.0,[-2. -2.])\n"
     ]
    }
   ],
   "source": [
    "print(f\"Addition : {a+b=}\")     # Operator + is __add__\n",
    "print(f\"Substraction : {a-b=}\") # Operator * is __sub__"
   ]
  },
  {
   "cell_type": "code",
   "execution_count": 121,
   "id": "resident-frontier",
   "metadata": {},
   "outputs": [],
   "source": [
    "assert close_to_zzero(a+b-a-b) # Unit test for checking implementation"
   ]
  },
  {
   "cell_type": "markdown",
   "id": "historical-signal",
   "metadata": {},
   "source": [
    "*Task:* Implement the `Dense.__mul__` method, which must be in accordance with the following Taylor expansion:\n",
    "$$\n",
    "    (x + <v,h> + o(\\|h\\|)) + (x'+<v',h>+o(\\|h\\|)) = (x x') + <(x v'+x' v),h> + o(\\|h\\|)\n",
    "$$"
   ]
  },
  {
   "cell_type": "code",
   "execution_count": 101,
   "id": "enormous-commissioner",
   "metadata": {},
   "outputs": [
    {
     "name": "stdout",
     "output_type": "stream",
     "text": [
      "Multiplication a*b=Dense(2.0,[5. 8.])\n",
      "Division a/b=Dense(0.5,[-0.25  0.  ])\n"
     ]
    }
   ],
   "source": [
    "print(f\"Multiplication {a*b=}\")  # Operator * is __mul__\n",
    "print(f\"Division {a/b=}\")        # Operator / is __truediv__"
   ]
  },
  {
   "cell_type": "code",
   "execution_count": 122,
   "id": "premium-absorption",
   "metadata": {},
   "outputs": [],
   "source": [
    "assert close_to_zzero(a*b/a/b - 1) # Unit test for checking implementation"
   ]
  },
  {
   "cell_type": "markdown",
   "id": "referenced-audio",
   "metadata": {},
   "source": [
    "### 1.3 Other arithmetic operators\n",
    "\n",
    "**Unary negation**\n",
    "\n",
    "*Task:* Implement the unary negation `__neg__` operator."
   ]
  },
  {
   "cell_type": "code",
   "execution_count": 110,
   "id": "personalized-calculator",
   "metadata": {},
   "outputs": [
    {
     "name": "stdout",
     "output_type": "stream",
     "text": [
      "Unary negation -a=Dense(-1.0,[-1. -2.])\n"
     ]
    }
   ],
   "source": [
    "print(f\"Unary negation {-a=}\")"
   ]
  },
  {
   "cell_type": "code",
   "execution_count": 123,
   "id": "compact-edinburgh",
   "metadata": {},
   "outputs": [],
   "source": [
    "assert close_to_zzero(-a+a) # Unit test for checking implementation"
   ]
  },
  {
   "cell_type": "markdown",
   "id": "alpine-marine",
   "metadata": {},
   "source": [
    "**Operators acting on the right**\n",
    "\n",
    "When the python interpreter encounters the expression `a-b`:\n",
    "- it attempts to evaluate it as `a.__sub__(b)`\n",
    "- catches the error if the previous operation is not implemented, for instance if `a` is `float` and `b` is `Dense` \n",
    "- if needed, attempts to evaluate the sum as  `b.__rsub__(a)`\n",
    "\n",
    "Since addition and multiplication are commutative (for the mathematical object of interest here), their implementation is slightly simpler than substraction and division.\n",
    "\n",
    "*Task:* Implement the `__rmul__` and `__rdiv__` operations. "
   ]
  },
  {
   "cell_type": "code",
   "execution_count": 127,
   "id": "appointed-athletics",
   "metadata": {},
   "outputs": [
    {
     "name": "stdout",
     "output_type": "stream",
     "text": [
      "Right multiplication 2*a=Dense(2.0,[2. 4.])\n",
      "Right division 2/a=Dense(2.0,[-2. -4.])\n"
     ]
    }
   ],
   "source": [
    "print(f\"Right multiplication {2*a=}\")\n",
    "print(f\"Right division {2/a=}\")"
   ]
  },
  {
   "cell_type": "code",
   "execution_count": 128,
   "id": "rotary-tension",
   "metadata": {},
   "outputs": [],
   "source": [
    "assert close_to_zzero(2./(2./a) - a)"
   ]
  },
  {
   "cell_type": "markdown",
   "id": "loaded-village",
   "metadata": {},
   "source": [
    "### 1.4 Special functions\n",
    "\n",
    "Special functions, whose derivative is usually known explicitly, act on Taylor expansions as \n",
    "$$\n",
    "    f(x + <v,h> + o(\\|h\\|)) = f(x) + <f'(x) v, h> + o(h).\n",
    "$$\n",
    "\n",
    "*Task:* Implement the `sqrt` and `sin` methods of the `Dense` class."
   ]
  },
  {
   "cell_type": "code",
   "execution_count": 131,
   "id": "happy-album",
   "metadata": {},
   "outputs": [
    {
     "name": "stdout",
     "output_type": "stream",
     "text": [
      "Square root function np.sqrt(a)=Dense(1.0,[0.5 1. ])\n",
      "Sine function np.sin(a)=Dense(0.8414709848078965,[0.54030231 1.08060461])\n"
     ]
    }
   ],
   "source": [
    "print(f\"Square root function {np.sqrt(a)=}\")\n",
    "print(f\"Sine function {np.sin(a)=}\")"
   ]
  },
  {
   "cell_type": "code",
   "execution_count": 133,
   "id": "norwegian-relevance",
   "metadata": {},
   "outputs": [],
   "source": [
    "assert close_to_zzero(np.sqrt(a**2)-a)\n",
    "assert close_to_zzero(np.sin(np.pi-a) - np.sin(a))"
   ]
  },
  {
   "cell_type": "markdown",
   "id": "traditional-concept",
   "metadata": {},
   "source": [
    "## 2. Applications (one variable)\n",
    "\n",
    "We use the `Dense` automatic differentiation class to differentiate functions and solve for their roots.\n",
    "For that purpose, let us introduce an arbitrary test function, made from methods supported by our class."
   ]
  },
  {
   "cell_type": "code",
   "execution_count": 323,
   "id": "surprised-brown",
   "metadata": {},
   "outputs": [],
   "source": [
    "def f(x): return x + x**2 + np.sin(2*x) - 0.2"
   ]
  },
  {
   "cell_type": "markdown",
   "id": "magnetic-cutting",
   "metadata": {},
   "source": [
    "The function value and derivative at a point $x$ are contained in its first order Taylor expansion \n",
    "$$\n",
    "    f(x+h+o(h)) = f(x) + f'(x) h + o(h).\n",
    "$$\n",
    "For convenience, let us build a function that turns a scalar value $x$ into the formal Taylor expansion $x+h+o(h)$."
   ]
  },
  {
   "cell_type": "code",
   "execution_count": 324,
   "id": "chinese-strand",
   "metadata": {},
   "outputs": [],
   "source": [
    "def scalar_ad(x): return Dense(x,[1.])"
   ]
  },
  {
   "cell_type": "markdown",
   "id": "prepared-moore",
   "metadata": {},
   "source": [
    "Now, as announced, we can get `f(x) = f(x_ad).x` and `f'(x) = f(x_ad).v[0]`, where `x_ad = scalar_ad(x)`."
   ]
  },
  {
   "cell_type": "code",
   "execution_count": 325,
   "id": "accompanied-exemption",
   "metadata": {},
   "outputs": [
    {
     "name": "stdout",
     "output_type": "stream",
     "text": [
      "Taylor expansion f(x_ad)=Dense(-0.2,[3.]) of f at x=0.0\n",
      "f(x)=-0.2, and f'(x)=3.0\n"
     ]
    }
   ],
   "source": [
    "x=0.\n",
    "x_ad = scalar_ad(x) # x+h+o(h)\n",
    "print(f\"Taylor expansion {f(x_ad)=} of f at {x=}\")\n",
    "print(f\"{f(x)=}, and f'(x)={f(x_ad).v[0]}\")"
   ]
  },
  {
   "cell_type": "markdown",
   "id": "substantial-virus",
   "metadata": {},
   "source": [
    "### 2.1 Solve an equation using the Newton method\n",
    "\n",
    "The basic Newton method to solve the equation \n",
    "$$\n",
    "    f(x)=0,\n",
    "$$\n",
    "is initialized from an arbitrary $x_0$, and then defines\n",
    "$$\n",
    "    x_{n+1} := x_n - f(x_n)/f'(x_n).\n",
    "$$\n",
    "Obviously, the `Dense` automatic differentiation class must be used in the method.\n",
    "\n",
    "*Task :* implement the Newton method, with a fixed number $N$ of iterations, returning the last value $x_N$."
   ]
  },
  {
   "cell_type": "code",
   "execution_count": 326,
   "id": "cutting-outside",
   "metadata": {},
   "outputs": [],
   "source": [
    "def Newton(f,x,niter):\n",
    "    for i in range(niter):\n",
    "        x_ad = scalar_ad(x)\n",
    "        f_ad = f(x_ad)\n",
    "        x -= f_ad.x/f_ad.v[0]\n",
    "    return x"
   ]
  },
  {
   "cell_type": "code",
   "execution_count": 327,
   "id": "inside-advertising",
   "metadata": {},
   "outputs": [
    {
     "name": "stdout",
     "output_type": "stream",
     "text": [
      "Solved for f : root=0.06536643515057672\n",
      "Residual : f(root)=0.0\n"
     ]
    }
   ],
   "source": [
    "root = Newton(f,0,10)\n",
    "print(f\"Solved for f : {root=}\")\n",
    "print(f\"Residual : {f(root)=}\")"
   ]
  },
  {
   "cell_type": "markdown",
   "id": "mature-answer",
   "metadata": {},
   "source": [
    "### 2.2 Plot a function and its derivative\n",
    "\n",
    "Numpy is designed to automatically thread many operations over arrays, which is convenient for both readability and performance."
   ]
  },
  {
   "cell_type": "code",
   "execution_count": 267,
   "id": "designed-conservative",
   "metadata": {},
   "outputs": [
    {
     "data": {
      "image/png": "[encoded data removed]",
      "text/plain": [
       "<Figure size 432x288 with 1 Axes>"
      ]
     },
     "metadata": {
      "needs_background": "light"
     },
     "output_type": "display_data"
    }
   ],
   "source": [
    "X = np.linspace(-np.pi,np.pi,200)\n",
    "plt.plot(X,f(X),label=\"f(x)\")\n",
    "plt.xlabel(\"x\")\n",
    "plt.legend();"
   ]
  },
  {
   "cell_type": "markdown",
   "id": "understanding-analyst",
   "metadata": {},
   "source": [
    "However our `scalar_ad` function is designed for single scalar value `x`, not an array of values.\n",
    "\n",
    "*Task:* Modify the function `scalar_ad` to properly handle arrays of values.\n",
    "If `x` has shape $(n_1,...,n_k)$ then `v` should be an array of ones with shape $(1,n_1,...,n_k)$. \n",
    "(One assume $k\\in\\{0,1\\}$ if that is simpler.)"
   ]
  },
  {
   "cell_type": "code",
   "execution_count": 268,
   "id": "turned-obligation",
   "metadata": {},
   "outputs": [],
   "source": [
    "def scalar_ad(x): return Dense(x,np.ones((1,*np.shape(x))))"
   ]
  },
  {
   "cell_type": "code",
   "execution_count": 269,
   "id": "bronze-corporation",
   "metadata": {},
   "outputs": [
    {
     "data": {
      "image/png": "[encoded data removed]",
      "text/plain": [
       "<Figure size 432x288 with 1 Axes>"
      ]
     },
     "metadata": {
      "needs_background": "light"
     },
     "output_type": "display_data"
    }
   ],
   "source": [
    "X_ad = scalar_ad(X)\n",
    "f_ad = f(X_ad)\n",
    "plt.plot(X,f_ad.x,label=\"f(x)\")\n",
    "plt.plot(X,f_ad.v[0],label=\"f'(x)\")\n",
    "plt.xlabel(\"x\")\n",
    "plt.legend();"
   ]
  },
  {
   "cell_type": "markdown",
   "id": "super-thanksgiving",
   "metadata": {},
   "source": [
    "## 2. Applications (several variables)\n",
    "\n",
    "In order to compute \n",
    "\n",
    "\n",
    "<!---\n",
    "- Newton's method for finding a root\n",
    "- Gradient descent\n",
    "--->"
   ]
  },
  {
   "cell_type": "code",
   "execution_count": 329,
   "id": "peripheral-documentary",
   "metadata": {},
   "outputs": [],
   "source": [
    "def vector_ad(a):\n",
    "    assert np.ndim(a)==1\n",
    "    return Dense(a,np.eye(len(a)))"
   ]
  },
  {
   "cell_type": "code",
   "execution_count": 349,
   "id": "phantom-tracker",
   "metadata": {},
   "outputs": [],
   "source": [
    "def f(x): return (x**2).sum(axis=0) + np.sin(2*x[0])-np.sqrt(1+x[1]**2-x[1])"
   ]
  },
  {
   "cell_type": "code",
   "execution_count": 350,
   "id": "unlimited-fiber",
   "metadata": {},
   "outputs": [
    {
     "data": {
      "image/png": "[encoded data removed]",
      "text/plain": [
       "<Figure size 432x288 with 2 Axes>"
      ]
     },
     "metadata": {
      "needs_background": "light"
     },
     "output_type": "display_data"
    }
   ],
   "source": [
    "aX = np.linspace(-2,2,100)\n",
    "X = np.array(np.meshgrid(aX,aX,indexing='ij'))\n",
    "plt.contourf(*X,f(X))\n",
    "plt.colorbar();"
   ]
  },
  {
   "cell_type": "markdown",
   "id": "attractive-fiber",
   "metadata": {},
   "source": [
    "### 2.1 Gradient descent"
   ]
  },
  {
   "cell_type": "code",
   "execution_count": 380,
   "id": "sharp-rings",
   "metadata": {},
   "outputs": [],
   "source": [
    "def GradientDescent(f,x,niter,step=0.1):\n",
    "    x_ = [x.copy()]\n",
    "    x_ad = vector_ad(x)\n",
    "    for i in range(niter):\n",
    "        f_ad = f(x_ad)\n",
    "        x_ad.x -= step*f(x_ad).v\n",
    "        x_.append(x.copy())\n",
    "    return x_"
   ]
  },
  {
   "cell_type": "code",
   "execution_count": 381,
   "id": "proved-humidity",
   "metadata": {},
   "outputs": [],
   "source": [
    "x0 = np.array([1.5,1.5])\n",
    "x_ = GradientDescent(f,x0,30)"
   ]
  },
  {
   "cell_type": "code",
   "execution_count": 382,
   "id": "better-dancing",
   "metadata": {},
   "outputs": [
    {
     "data": {
      "image/png": "[encoded data removed]",
      "text/plain": [
       "<Figure size 432x288 with 1 Axes>"
      ]
     },
     "metadata": {
      "needs_background": "light"
     },
     "output_type": "display_data"
    }
   ],
   "source": [
    "plt.contourf(*X,f(X))\n",
    "plt.plot(*np.array(x_).T);"
   ]
  },
  {
   "cell_type": "markdown",
   "id": "catholic-prize",
   "metadata": {},
   "source": [
    "### 2.2 Hamilton's equations of geodesics"
   ]
  },
  {
   "cell_type": "code",
   "execution_count": 431,
   "id": "irish-bankruptcy",
   "metadata": {},
   "outputs": [],
   "source": [
    "def H(q,p):\n",
    "    return  0.5*q[1] * (p**2).sum(axis=0)"
   ]
  },
  {
   "cell_type": "code",
   "execution_count": 432,
   "id": "environmental-viking",
   "metadata": {},
   "outputs": [],
   "source": [
    "def Hamilton(H,q,p,niter,step=0.1,stop=lambda q,p:False):\n",
    "    q_ = [q.copy()]\n",
    "    p_ = [p.copy()]\n",
    "    q_ad = vector_ad(q)\n",
    "    p_ad = vector_ad(p)\n",
    "    for i in range(niter):\n",
    "        q_ad.x += step* H(q,p_ad).v\n",
    "        p_ad.x -= step* H(q_ad,p).v\n",
    "        q_.append(q.copy())\n",
    "        p_.append(p.copy())\n",
    "        if stop(q,p): break\n",
    "    return q_,p_"
   ]
  },
  {
   "cell_type": "code",
   "execution_count": 438,
   "id": "after-organizer",
   "metadata": {},
   "outputs": [],
   "source": [
    "def stop(q,p): return q[1]<0"
   ]
  },
  {
   "cell_type": "code",
   "execution_count": 448,
   "id": "photographic-cyprus",
   "metadata": {},
   "outputs": [],
   "source": [
    "q = np.array([0.,1.])\n",
    "θ = 1.\n",
    "p = np.array([np.cos(θ),np.sin(θ)])\n",
    "\n",
    "q_,p_ = Hamilton(H,q,p,100,stop=stop)"
   ]
  },
  {
   "cell_type": "code",
   "execution_count": 451,
   "id": "cloudy-supply",
   "metadata": {},
   "outputs": [
    {
     "data": {
      "image/png": "[encoded data removed]",
      "text/plain": [
       "<Figure size 432x288 with 1 Axes>"
      ]
     },
     "metadata": {
      "needs_background": "light"
     },
     "output_type": "display_data"
    }
   ],
   "source": [
    "plt.plot(*np.array(q_).T)\n",
    "plt.axis('equal');"
   ]
  },
  {
   "cell_type": "code",
   "execution_count": 456,
   "id": "million-question",
   "metadata": {},
   "outputs": [
    {
     "data": {
      "image/png": "[encoded data removed]",
      "text/plain": [
       "<Figure size 432x288 with 1 Axes>"
      ]
     },
     "metadata": {
      "needs_background": "light"
     },
     "output_type": "display_data"
    }
   ],
   "source": [
    "\n",
    "for θ in np.linspace(0,2*np.pi,20,endpoint=False):\n",
    "    q = np.array([0.,1.])\n",
    "    p = np.array([np.cos(θ),np.sin(θ)])\n",
    "    q_,p_ = Hamilton(H,q,p,50,stop=stop)\n",
    "    plt.plot(*np.array(q_).T)\n",
    "plt.axis('equal');"
   ]
  },
  {
   "cell_type": "code",
   "execution_count": null,
   "id": "atomic-prize",
   "metadata": {},
   "outputs": [],
   "source": []
  }
 ],
 "metadata": {
  "kernelspec": {
   "display_name": "Python 3",
   "language": "python",
   "name": "python3"
  },
  "language_info": {
   "codemirror_mode": {
    "name": "ipython",
    "version": 3
   },
   "file_extension": ".py",
   "mimetype": "text/x-python",
   "name": "python",
   "nbconvert_exporter": "python",
   "pygments_lexer": "ipython3",
   "version": "3.9.1"
  }
 },
 "nbformat": 4,
 "nbformat_minor": 5
}
