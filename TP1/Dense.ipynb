{
 "cells": [
  {
   "cell_type": "markdown",
   "id": "vanilla-vienna",
   "metadata": {},
   "source": [
    "# MVA Cours Numerical PDEs for image analysis\n",
    "\n",
    "## TP 1.1 Dense automatic differentiation\n",
    "\n",
    "The objective of this practical works session is to implement an automatic differentiation class, using dense storage, and explore some of its applications.\n",
    "\n",
    "**Note:** \n",
    "The purpose of these experiments is to illustrate the conceptual simplicity of automatic differentiation.\n",
    "In practical applications, it is not recommended to develop these tools from scratch, but to use a mature software package. (As we will do in next sessions.)"
   ]
  },
  {
   "cell_type": "markdown",
   "id": "compressed-feelings",
   "metadata": {},
   "source": [
    "## 0. Importing the required libraries"
   ]
  },
  {
   "cell_type": "code",
   "execution_count": 1,
   "id": "coupled-brand",
   "metadata": {},
   "outputs": [],
   "source": [
    "import numpy as np\n",
    "from matplotlib import pyplot as plt"
   ]
  },
  {
   "cell_type": "markdown",
   "id": "rocky-piano",
   "metadata": {},
   "source": [
    "## 1. Implementation"
   ]
  },
  {
   "cell_type": "code",
   "execution_count": 2,
   "id": "coordinate-adolescent",
   "metadata": {},
   "outputs": [],
   "source": [
    "class Dense:\n",
    "    \"\"\"\n",
    "    A class for Dense, first order, forward automatic differentiation.\n",
    "    Members : \n",
    "    - x : an array of arbitrary shape (n_1,...,n_k)\n",
    "    - v : an array of shape (size_ad, n_1,...,n_k), where size_ad is arbitrary integer\n",
    "    \n",
    "    Represents the following Taylor expansion, where h is a symbolic perturbation\n",
    "    x + sum(h[i]*v[i] for i in range(size_ad)) + o(\\|h\\|)\n",
    "    \"\"\"\n",
    "    \n",
    "    def __init__(self,x,v):\n",
    "        self.x = x\n",
    "        self.v = np.asarray(v)\n",
    "        assert np.shape(x) == np.shape(v)[1:]\n",
    "    \n",
    "    def __repr__(self):\n",
    "        return f\"Dense({self.x},{self.v})\"\n",
    "    \n",
    "    @property\n",
    "    def size_ad(self): \n",
    "        \"\"\"The number of independent components of the symbolic perturbation (denoted h)\"\"\"\n",
    "        return len(self.v)\n",
    "    \n",
    "    def convert(self,other):\n",
    "        if isinstance(other,Dense): # Checks that self and other have matching size_ad\n",
    "            assert self.size_ad==other.size_ad \n",
    "            return other\n",
    "        else: # Return Dense object with matching size_ad\n",
    "            return Dense(other,np.zeros(shape=(self.size_ad,*np.shape(other))))\n",
    "    \n",
    "    # Base arithmetic operators\n",
    "    def __add__(self,other):\n",
    "        a,b = self,self.convert(other)\n",
    "        return Dense(a.x+b.x, a.v+b.v)\n",
    "    \n",
    "    def __sub__(self,other):\n",
    "        a,b = self,self.convert(other)\n",
    "        return Dense(a.x-b.x,a.v-b.v)\n",
    "    \n",
    "    def __mul__(self,other):\n",
    "        a,b = self,self.convert(other)\n",
    "        return Dense(a.x*b.x, a.x*b.v + a.v*b.x)\n",
    "\n",
    "    def __truediv__(self,other):\n",
    "        a,b = self,self.convert(other)\n",
    "        return Dense(a.x/b.x, a.v/b.x - a.x*b.v/b.x**2)\n",
    "\n",
    "    # Other operators\n",
    "    def __neg__(self): return Dense(-self.x,-self.v)\n",
    "    __radd__ = __add__\n",
    "    __rmul__ = __mul__\n",
    "    def __rsub__(self,other):     return self.convert(other)-self\n",
    "    def __rtruediv__(self,other): return self.convert(other)/self\n",
    "    \n",
    "    \n",
    "    # Special functions\n",
    "    def __pow__(self,r):\n",
    "        x,v = self.x,self.v\n",
    "        return Dense(x**r, r*x**(r-1) * v)\n",
    "    \n",
    "    def sqrt(self): \n",
    "        s = np.sqrt(self.x)\n",
    "        return Dense(s,self.v/(2*s))\n",
    "    \n",
    "    def sin(self):\n",
    "        s,c = np.sin(self.x),np.cos(self.x)\n",
    "        return Dense(s,c*self.v)\n",
    "\n",
    "    # Element access\n",
    "    def __getitem__(self,key):\n",
    "        return Dense(self.x[key],self.v[:,key])\n",
    "    def __setitem__(self,key,other):\n",
    "        a,b = self,self.convert(other)\n",
    "        a.x[key]   = b.x[key]\n",
    "        a.v[:,key] = b.v[:,key]\n",
    "   \n",
    "# Create some sample variables for testing purposes\n",
    "a = Dense(1.,[1.,2.]) # 1 + (h_0 + 2*h_1) + o(|h|)\n",
    "b = Dense(2.,[3.,4.]) # 2 + (3*h_0+4*h_1) + o(|h|)"
   ]
  },
  {
   "cell_type": "code",
   "execution_count": 3,
   "id": "printable-breakdown",
   "metadata": {},
   "outputs": [],
   "source": [
    "def close_to_zzero(a): \n",
    "    \"\"\"Checks that a Taylor expansion has its zeroth and first order components close to zero.\"\"\"\n",
    "    return np.allclose(a.x,0) and np.allclose(a.v,0)"
   ]
  },
  {
   "cell_type": "markdown",
   "id": "numerical-determination",
   "metadata": {},
   "source": [
    "### 1.1 String representation\n",
    "\n",
    "Task: Implement the `Dense.__repr__` method. It should return a string containing a readable representation of the object, that (ideally) can be used to reconstruct it."
   ]
  },
  {
   "cell_type": "code",
   "execution_count": 4,
   "id": "under-sterling",
   "metadata": {},
   "outputs": [
    {
     "name": "stdout",
     "output_type": "stream",
     "text": [
      "I got the variables : 1 and bla (and also z=[1, 2, 3])\n"
     ]
    }
   ],
   "source": [
    "# Hint : Python's string formatting syntax\n",
    "x,y,z = 1,'bla',[1,2,3]\n",
    "print(f\"I got the variables : {x} and {y} (and also {z=})\")"
   ]
  },
  {
   "cell_type": "code",
   "execution_count": 5,
   "id": "electronic-authentication",
   "metadata": {},
   "outputs": [
    {
     "name": "stdout",
     "output_type": "stream",
     "text": [
      "Dense(1.0,[1. 2.])\n"
     ]
    }
   ],
   "source": [
    "print(a)"
   ]
  },
  {
   "cell_type": "markdown",
   "id": "mechanical-timer",
   "metadata": {},
   "source": [
    "### 1.2 Arithmetic operators\n",
    "\n",
    "*Task:* Implement the `Dense.__add__` and `Dense.__sub__` methods. They must return a `Dense` object, in accordance with the Taylor expansion rules.\n",
    "For instance:\n",
    "$$\n",
    "    (x + <v,h> + o(\\|h\\|)) + (x'+<v',h>+o(\\|h\\|)) = (x+x') + <(v+v'),h> + o(\\|h\\|)\n",
    "$$"
   ]
  },
  {
   "cell_type": "code",
   "execution_count": 6,
   "id": "musical-chapel",
   "metadata": {},
   "outputs": [
    {
     "name": "stdout",
     "output_type": "stream",
     "text": [
      "Addition : a+b=Dense(3.0,[4. 6.])\n",
      "Substraction : a-b=Dense(-1.0,[-2. -2.])\n"
     ]
    }
   ],
   "source": [
    "print(f\"Addition : {a+b=}\")     # Operator + is __add__\n",
    "print(f\"Substraction : {a-b=}\") # Operator * is __sub__"
   ]
  },
  {
   "cell_type": "code",
   "execution_count": 7,
   "id": "robust-spell",
   "metadata": {},
   "outputs": [],
   "source": [
    "assert close_to_zzero(a+b-a-b) # Unit test for checking implementation"
   ]
  },
  {
   "cell_type": "markdown",
   "id": "numeric-gilbert",
   "metadata": {},
   "source": [
    "*Task:* Implement the `Dense.__mul__` method, which must be in accordance with the following Taylor expansion:\n",
    "$$\n",
    "    (x + <v,h> + o(\\|h\\|)) + (x'+<v',h>+o(\\|h\\|)) = (x x') + <(x v'+x' v),h> + o(\\|h\\|)\n",
    "$$"
   ]
  },
  {
   "cell_type": "code",
   "execution_count": 8,
   "id": "spiritual-church",
   "metadata": {},
   "outputs": [
    {
     "name": "stdout",
     "output_type": "stream",
     "text": [
      "Multiplication a*b=Dense(2.0,[5. 8.])\n",
      "Division a/b=Dense(0.5,[-0.25  0.  ])\n"
     ]
    }
   ],
   "source": [
    "print(f\"Multiplication {a*b=}\")  # Operator * is __mul__\n",
    "print(f\"Division {a/b=}\")        # Operator / is __truediv__"
   ]
  },
  {
   "cell_type": "code",
   "execution_count": 9,
   "id": "outside-dollar",
   "metadata": {},
   "outputs": [],
   "source": [
    "assert close_to_zzero(a*b/a/b - 1) # Unit test for checking implementation"
   ]
  },
  {
   "cell_type": "markdown",
   "id": "agricultural-sleep",
   "metadata": {},
   "source": [
    "### 1.3 Other arithmetic operators\n",
    "\n",
    "**Unary negation**\n",
    "\n",
    "*Task:* Implement the unary negation `__neg__` operator."
   ]
  },
  {
   "cell_type": "code",
   "execution_count": 10,
   "id": "baking-graham",
   "metadata": {},
   "outputs": [
    {
     "name": "stdout",
     "output_type": "stream",
     "text": [
      "Unary negation -a=Dense(-1.0,[-1. -2.])\n"
     ]
    }
   ],
   "source": [
    "print(f\"Unary negation {-a=}\")"
   ]
  },
  {
   "cell_type": "code",
   "execution_count": 11,
   "id": "fifth-woman",
   "metadata": {},
   "outputs": [],
   "source": [
    "assert close_to_zzero(-a+a) # Unit test for checking implementation"
   ]
  },
  {
   "cell_type": "markdown",
   "id": "enormous-clone",
   "metadata": {},
   "source": [
    "**Operators acting on the right**\n",
    "\n",
    "When the python interpreter encounters the expression `a-b`:\n",
    "- it attempts to evaluate it as `a.__sub__(b)`\n",
    "- catches the error if the previous operation is not implemented, for instance if `a` is `float` and `b` is `Dense` \n",
    "- if needed, attempts to evaluate the sum as  `b.__rsub__(a)`\n",
    "\n",
    "Since addition and multiplication are commutative (for the mathematical object of interest here), their implementation is slightly simpler than substraction and division.\n",
    "\n",
    "*Task:* Implement the `__rmul__` and `__rdiv__` operations. "
   ]
  },
  {
   "cell_type": "code",
   "execution_count": 12,
   "id": "confident-terrorist",
   "metadata": {},
   "outputs": [
    {
     "name": "stdout",
     "output_type": "stream",
     "text": [
      "Right multiplication 2*a=Dense(2.0,[2. 4.])\n",
      "Right division 2/a=Dense(2.0,[-2. -4.])\n"
     ]
    }
   ],
   "source": [
    "print(f\"Right multiplication {2*a=}\")\n",
    "print(f\"Right division {2/a=}\")"
   ]
  },
  {
   "cell_type": "code",
   "execution_count": 13,
   "id": "foreign-prediction",
   "metadata": {},
   "outputs": [],
   "source": [
    "assert close_to_zzero(2./(2./a) - a)"
   ]
  },
  {
   "cell_type": "markdown",
   "id": "large-ebony",
   "metadata": {},
   "source": [
    "### 1.4 Special functions\n",
    "\n",
    "Special functions, whose derivative is usually known explicitly, act on Taylor expansions as \n",
    "$$\n",
    "    f(x + <v,h> + o(\\|h\\|)) = f(x) + <f'(x) v, h> + o(h).\n",
    "$$\n",
    "\n",
    "*Task:* Implement the `sqrt` and `sin` methods of the `Dense` class."
   ]
  },
  {
   "cell_type": "code",
   "execution_count": 14,
   "id": "informed-brain",
   "metadata": {},
   "outputs": [
    {
     "name": "stdout",
     "output_type": "stream",
     "text": [
      "Square root function np.sqrt(a)=Dense(1.0,[0.5 1. ])\n",
      "Sine function np.sin(a)=Dense(0.8414709848078965,[0.54030231 1.08060461])\n"
     ]
    }
   ],
   "source": [
    "print(f\"Square root function {np.sqrt(a)=}\")\n",
    "print(f\"Sine function {np.sin(a)=}\")"
   ]
  },
  {
   "cell_type": "code",
   "execution_count": 15,
   "id": "determined-punishment",
   "metadata": {},
   "outputs": [],
   "source": [
    "assert close_to_zzero(np.sqrt(a**2)-a)\n",
    "assert close_to_zzero(np.sin(np.pi-a) - np.sin(a))"
   ]
  },
  {
   "cell_type": "markdown",
   "id": "beneficial-report",
   "metadata": {},
   "source": [
    "## 2. Applications (one variable)\n",
    "\n",
    "We use the `Dense` automatic differentiation class to differentiate functions and solve for their roots.\n",
    "For that purpose, let us introduce an arbitrary test function, made from methods supported by our class."
   ]
  },
  {
   "cell_type": "code",
   "execution_count": 16,
   "id": "unavailable-coalition",
   "metadata": {},
   "outputs": [],
   "source": [
    "def f(x): return x + x**2 + np.sin(2*x) - 0.2"
   ]
  },
  {
   "cell_type": "markdown",
   "id": "gross-carbon",
   "metadata": {},
   "source": [
    "The function value and derivative at a point $x$ are contained in its first order Taylor expansion \n",
    "$$\n",
    "    f(x+h+o(h)) = f(x) + f'(x) h + o(h).\n",
    "$$\n",
    "For convenience, let us build a function that turns a scalar value $x$ into the formal Taylor expansion $x+h+o(h)$."
   ]
  },
  {
   "cell_type": "code",
   "execution_count": 17,
   "id": "ceramic-inquiry",
   "metadata": {},
   "outputs": [],
   "source": [
    "def scalar_ad(x): return Dense(x,[1.])"
   ]
  },
  {
   "cell_type": "markdown",
   "id": "processed-credit",
   "metadata": {},
   "source": [
    "Now, as announced, we can get `f(x) = f(x_ad).x` and `f'(x) = f(x_ad).v[0]`, where `x_ad = scalar_ad(x)`."
   ]
  },
  {
   "cell_type": "code",
   "execution_count": 18,
   "id": "chubby-forestry",
   "metadata": {},
   "outputs": [
    {
     "name": "stdout",
     "output_type": "stream",
     "text": [
      "Taylor expansion f(x_ad)=Dense(-0.2,[3.]) of f at x=0.0\n",
      "f(x)=-0.2, and f'(x)=3.0\n"
     ]
    }
   ],
   "source": [
    "x=0.\n",
    "x_ad = scalar_ad(x) # x+h+o(h)\n",
    "print(f\"Taylor expansion {f(x_ad)=} of f at {x=}\")\n",
    "print(f\"{f(x)=}, and f'(x)={f(x_ad).v[0]}\")"
   ]
  },
  {
   "cell_type": "markdown",
   "id": "important-letters",
   "metadata": {},
   "source": [
    "### 2.1 Solve an equation using the Newton method\n",
    "\n",
    "The basic Newton method to solve the equation \n",
    "$$\n",
    "    f(x)=0,\n",
    "$$\n",
    "is initialized from an arbitrary $x_0$, and then defines\n",
    "$$\n",
    "    x_{n+1} := x_n - f(x_n)/f'(x_n).\n",
    "$$\n",
    "Obviously, the `Dense` automatic differentiation class must be used in the method.\n",
    "\n",
    "*Task :* implement the Newton method, with a fixed number $N$ of iterations, returning the last value $x_N$."
   ]
  },
  {
   "cell_type": "code",
   "execution_count": 19,
   "id": "oriental-dairy",
   "metadata": {},
   "outputs": [],
   "source": [
    "def Newton(f,x,niter):\n",
    "    for i in range(niter):\n",
    "        x_ad = scalar_ad(x)\n",
    "        f_ad = f(x_ad)\n",
    "        x -= f_ad.x/f_ad.v[0]\n",
    "    return x"
   ]
  },
  {
   "cell_type": "code",
   "execution_count": 20,
   "id": "light-helping",
   "metadata": {},
   "outputs": [
    {
     "name": "stdout",
     "output_type": "stream",
     "text": [
      "Solved for f : root=0.06536643515057672\n",
      "Residual : f(root)=0.0\n"
     ]
    }
   ],
   "source": [
    "root = Newton(f,0,10)\n",
    "print(f\"Solved for f : {root=}\")\n",
    "print(f\"Residual : {f(root)=}\")"
   ]
  },
  {
   "cell_type": "markdown",
   "id": "lined-drill",
   "metadata": {},
   "source": [
    "### 2.2 Plot a function and its derivative\n",
    "\n",
    "Numpy is designed to automatically thread many operations over arrays, which is convenient for both readability and performance."
   ]
  },
  {
   "cell_type": "code",
   "execution_count": 21,
   "id": "eleven-union",
   "metadata": {},
   "outputs": [
    {
     "data": {
      "image/png": "[encoded data removed]",
      "text/plain": [
       "<Figure size 432x288 with 1 Axes>"
      ]
     },
     "metadata": {
      "needs_background": "light"
     },
     "output_type": "display_data"
    }
   ],
   "source": [
    "X = np.linspace(-np.pi,np.pi,200)\n",
    "plt.plot(X,f(X),label=\"f(x)\")\n",
    "plt.xlabel(\"x\")\n",
    "plt.legend();"
   ]
  },
  {
   "cell_type": "markdown",
   "id": "retained-class",
   "metadata": {},
   "source": [
    "However our `scalar_ad` function is designed for single scalar value `x`, not an array of values.\n",
    "\n",
    "*Task:* Modify the function `scalar_ad` to properly handle arrays of values.\n",
    "If `x` has shape $(n_1,...,n_k)$ then `v` should be an array of ones with shape $(1,n_1,...,n_k)$. \n",
    "(One can assume $k\\in\\{0,1\\}$ for simplicity.)"
   ]
  },
  {
   "cell_type": "code",
   "execution_count": 22,
   "id": "happy-recall",
   "metadata": {},
   "outputs": [],
   "source": [
    "def scalar_ad(x): return Dense(x,np.ones((1,*np.shape(x))))"
   ]
  },
  {
   "cell_type": "code",
   "execution_count": 23,
   "id": "administrative-tunisia",
   "metadata": {},
   "outputs": [
    {
     "data": {
      "image/png": "[encoded data removed]",
      "text/plain": [
       "<Figure size 432x288 with 1 Axes>"
      ]
     },
     "metadata": {
      "needs_background": "light"
     },
     "output_type": "display_data"
    }
   ],
   "source": [
    "X_ad = scalar_ad(X)\n",
    "f_ad = f(X_ad)\n",
    "plt.plot(X,f_ad.x,label=\"f(x)\")\n",
    "plt.plot(X,f_ad.v[0],label=\"f'(x)\")\n",
    "plt.xlabel(\"x\")\n",
    "plt.legend();"
   ]
  },
  {
   "cell_type": "markdown",
   "id": "naval-israeli",
   "metadata": {},
   "source": [
    "## 2. Applications (several variables)\n",
    "\n",
    "In several dimensions, it is convenient to construct vectors whose components are subject to independent symbolic perturbations.\n",
    "\n",
    "\n",
    "*Task:* complete the function `vector_ad` below. Given a vector $(x_i)_{1 \\leq i \\leq I}$, it should return a variable of `Dense` class representing the Taylor expansion\n",
    "$$\n",
    "    (x_i + h_i + o(h))_{1\\leq i \\leq I}.\n",
    "$$"
   ]
  },
  {
   "cell_type": "code",
   "execution_count": 24,
   "id": "spoken-script",
   "metadata": {},
   "outputs": [],
   "source": [
    "def vector_ad(x):\n",
    "    assert np.ndim(x)==1\n",
    "    return Dense(x,np.eye(len(x)))"
   ]
  },
  {
   "cell_type": "markdown",
   "id": "other-opinion",
   "metadata": {},
   "source": [
    "### 2.1 Gradient descent\n",
    "\n",
    "We propose to use automatic differentiation to minimize a function by gradient descent."
   ]
  },
  {
   "cell_type": "code",
   "execution_count": 25,
   "id": "brutal-pottery",
   "metadata": {},
   "outputs": [],
   "source": [
    "def f(x): return x[0]**2+x[1]**2 + np.sin(2*x[0])-np.sqrt(1+x[1]**2-x[1])"
   ]
  },
  {
   "cell_type": "code",
   "execution_count": 26,
   "id": "attractive-congo",
   "metadata": {},
   "outputs": [
    {
     "data": {
      "image/png": "[encoded data removed]",
      "text/plain": [
       "<Figure size 432x288 with 2 Axes>"
      ]
     },
     "metadata": {
      "needs_background": "light"
     },
     "output_type": "display_data"
    }
   ],
   "source": [
    "aX = np.linspace(-2,2,100)\n",
    "X = np.array(np.meshgrid(aX,aX,indexing='ij'))\n",
    "plt.contourf(*X,f(X))\n",
    "plt.colorbar();"
   ]
  },
  {
   "cell_type": "markdown",
   "id": "extra-distance",
   "metadata": {},
   "source": [
    "*Task:* Implement the `GradientDescent` method."
   ]
  },
  {
   "cell_type": "code",
   "execution_count": 27,
   "id": "fifty-recommendation",
   "metadata": {},
   "outputs": [],
   "source": [
    "def GradientDescent(f,x,niter,step=0.1):\n",
    "    x_ = [x.copy()]\n",
    "    x_ad = vector_ad(x)\n",
    "    for i in range(niter):\n",
    "        f_ad = f(x_ad)\n",
    "        x_ad.x -= step*f(x_ad).v\n",
    "        x_.append(x.copy())\n",
    "    return x_"
   ]
  },
  {
   "cell_type": "code",
   "execution_count": 28,
   "id": "treated-commission",
   "metadata": {},
   "outputs": [],
   "source": [
    "x0 = np.array([1.5,1.5])\n",
    "x_ = GradientDescent(f,x0,30)"
   ]
  },
  {
   "cell_type": "code",
   "execution_count": 29,
   "id": "greek-fight",
   "metadata": {},
   "outputs": [
    {
     "data": {
      "image/png": "[encoded data removed]",
      "text/plain": [
       "<Figure size 432x288 with 1 Axes>"
      ]
     },
     "metadata": {
      "needs_background": "light"
     },
     "output_type": "display_data"
    }
   ],
   "source": [
    "plt.contourf(*X,f(X))\n",
    "plt.plot(*np.array(x_).T);"
   ]
  },
  {
   "cell_type": "markdown",
   "id": "naughty-andorra",
   "metadata": {},
   "source": [
    "### 2.2 Hamilton's equations of geodesics\n",
    "\n",
    "Hamilton's equations characterize geodesics paths on manifolds, and appear in numerous other physical models as well. They read:\n",
    "$$\n",
    "    \\frac {dq}{dt} = \\partial_p H, \\qquad \\frac {dp}{dq} = -\\partial_q H.\n",
    "$$"
   ]
  },
  {
   "cell_type": "markdown",
   "id": "numerical-respect",
   "metadata": {},
   "source": [
    "*Task:* Implement a basic ODE solver of Hamilton's equations, using automatic differentiation to differentiate the Hamiltonian."
   ]
  },
  {
   "cell_type": "code",
   "execution_count": 30,
   "id": "peripheral-aviation",
   "metadata": {},
   "outputs": [],
   "source": [
    "def Hamilton(H,q,p,niter,step=0.1):\n",
    "    q_ = [q.copy()]\n",
    "    p_ = [p.copy()]\n",
    "    q_ad = vector_ad(q)\n",
    "    p_ad = vector_ad(p)\n",
    "    for i in range(niter):\n",
    "        q_ad.x += step* H(q,p_ad).v\n",
    "        p_ad.x -= step* H(q_ad,p).v\n",
    "        q_.append(q.copy())\n",
    "        p_.append(p.copy())\n",
    "    return q_,p_"
   ]
  },
  {
   "cell_type": "markdown",
   "id": "christian-worry",
   "metadata": {},
   "source": [
    "We use the Hamiltonian of the Poincare hyperbolic plane model, reading\n",
    "$$\n",
    "    H(q,p) = \\frac {q_1} 2 (p_0^2+p_1^2).\n",
    "$$\n",
    "It is defined for states $q \\in R \\times R_+$, and arbitrary impulsions $p \\in R^2$. One can prove that the geodesics follow circular arcs.\n",
    "\n",
    "*Task:* Implement this Hamiltonian."
   ]
  },
  {
   "cell_type": "code",
   "execution_count": 31,
   "id": "imported-actor",
   "metadata": {},
   "outputs": [],
   "source": [
    "def H(q,p): return 0.5*q[1]**2 * (p[0]**2+p[1]**2)"
   ]
  },
  {
   "cell_type": "code",
   "execution_count": 32,
   "id": "technical-brother",
   "metadata": {},
   "outputs": [],
   "source": [
    "q = np.array([0.,1.])\n",
    "θ = 1.\n",
    "p = np.array([np.cos(θ),np.sin(θ)])\n",
    "\n",
    "q_,p_ = Hamilton(H,q,p,100)"
   ]
  },
  {
   "cell_type": "code",
   "execution_count": 33,
   "id": "recovered-major",
   "metadata": {},
   "outputs": [
    {
     "data": {
      "image/png": "[encoded data removed]",
      "text/plain": [
       "<Figure size 432x288 with 1 Axes>"
      ]
     },
     "metadata": {
      "needs_background": "light"
     },
     "output_type": "display_data"
    }
   ],
   "source": [
    "plt.plot(*np.array(q_).T)\n",
    "plt.axis('equal');"
   ]
  },
  {
   "cell_type": "code",
   "execution_count": 34,
   "id": "third-jewelry",
   "metadata": {},
   "outputs": [
    {
     "data": {
      "image/png": "[encoded data removed]",
      "text/plain": [
       "<Figure size 432x288 with 1 Axes>"
      ]
     },
     "metadata": {
      "needs_background": "light"
     },
     "output_type": "display_data"
    }
   ],
   "source": [
    "for θ in np.linspace(0,2*np.pi,20,endpoint=False):\n",
    "    q = np.array([0.,1.])\n",
    "    p = np.array([np.cos(θ),np.sin(θ)])\n",
    "    q_,p_ = Hamilton(H,q,p,50)\n",
    "    plt.plot(*np.array(q_).T)\n",
    "plt.axis('equal');\n",
    "plt.ylim(0,5);"
   ]
  },
  {
   "cell_type": "code",
   "execution_count": null,
   "id": "bizarre-bruce",
   "metadata": {},
   "outputs": [],
   "source": []
  },
  {
   "cell_type": "code",
   "execution_count": null,
   "id": "lined-harris",
   "metadata": {},
   "outputs": [],
   "source": []
  }
 ],
 "metadata": {
  "kernelspec": {
   "display_name": "Python 3",
   "language": "python",
   "name": "python3"
  },
  "language_info": {
   "codemirror_mode": {
    "name": "ipython",
    "version": 3
   },
   "file_extension": ".py",
   "mimetype": "text/x-python",
   "name": "python",
   "nbconvert_exporter": "python",
   "pygments_lexer": "ipython3",
   "version": "3.9.1"
  }
 },
 "nbformat": 4,
 "nbformat_minor": 5
}
