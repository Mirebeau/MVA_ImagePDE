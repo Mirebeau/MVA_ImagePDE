{
 "cells": [
  {
   "cell_type": "markdown",
   "id": "wicked-forwarding",
   "metadata": {},
   "source": [
    "# MVA Cours Numerical PDEs for image analysis\n",
    "\n",
    "## TP 1.1 Dense automatic differentiation\n",
    "\n",
    "The objective of this practical works session is to implement an automatic differentiation class, using dense storage and forward propagation, and to explore some of its applications."
   ]
  },
  {
   "cell_type": "markdown",
   "id": "revised-credit",
   "metadata": {},
   "source": [
    "## 0. Importing the required libraries"
   ]
  },
  {
   "cell_type": "code",
   "execution_count": 1,
   "id": "rough-juice",
   "metadata": {},
   "outputs": [],
   "source": [
    "import numpy as np\n",
    "from matplotlib import pyplot as plt"
   ]
  },
  {
   "cell_type": "markdown",
   "id": "liberal-convertible",
   "metadata": {},
   "source": [
    "## 1. Implementation of Dense automatic differentiation\n",
    "\n",
    "This section is devoted to the construction of a `Dense` automatic differentiation class, which will be used as a drop-in replacement for scalars and numpy arrays.\n",
    "\n",
    "**Note:** \n",
    "The purpose of these experiments is to illustrate the conceptual simplicity of automatic differentiation.\n",
    "In practical applications, it is usually not recommended to develop these tools from scratch, but to use a mature software package. (As we will do in next sessions.)\n",
    "\n",
    "\n",
    "<!---ExoCode\n",
    "class Dense:\n",
    "    \"\"\"\n",
    "    A class for Dense, first order, forward automatic differentiation.\n",
    "    Members : \n",
    "    - x : an array of arbitrary shape (n_1,...,n_k)\n",
    "    - v : an array of shape (size_ad, n_1,...,n_k), where size_ad is arbitrary integer\n",
    "    \n",
    "    Represents the following Taylor expansion, where h is a symbolic perturbation\n",
    "    x + sum(h[i]*v[i] for i in range(size_ad)) + o(\\|h\\|)\n",
    "    \"\"\"\n",
    "    \n",
    "    def __init__(self,x,v):\n",
    "        self.x = x\n",
    "        self.v = np.asarray(v)\n",
    "        assert np.shape(x) == np.shape(v)[1:]\n",
    "    \n",
    "    def __repr__(self):\n",
    "        raise NotImplementedError # TODO, see indications below\n",
    "    \n",
    "    @property\n",
    "    def size_ad(self): \n",
    "        \"\"\"The number of independent components of the symbolic perturbation (denoted h)\"\"\"\n",
    "        return len(self.v)\n",
    "    \n",
    "    def convert(self,other):\n",
    "        \"\"\"Prepare other for an arithmetic operation with self\"\"\"\n",
    "        if isinstance(other,Dense): # Checks that self and other have matching size_ad\n",
    "            assert self.size_ad==other.size_ad \n",
    "            return other\n",
    "        else: # Return Dense object with matching size_ad\n",
    "            return Dense(other,np.zeros(shape=(self.size_ad,*np.shape(other))))\n",
    "    \n",
    "    # Base arithmetic operators\n",
    "    def __add__(self,other):\n",
    "        a,b = self,self.convert(other)\n",
    "        raise NotImplementedError # TODO. Hint : similar to __truediv__ \n",
    "    \n",
    "    def __sub__(self,other):\n",
    "        a,b = self,self.convert(other)\n",
    "        raise NotImplementedError # TODO. Hint : similar to __truediv__ \n",
    "    \n",
    "    def __mul__(self,other):\n",
    "        a,b = self,self.convert(other)\n",
    "        raise NotImplementedError # TODO. Hint : similar to __truediv__ \n",
    "\n",
    "    def __truediv__(self,other):\n",
    "        a,b = self,self.convert(other)\n",
    "        return Dense(a.x/b.x, a.v/b.x - a.x*b.v/b.x**2)\n",
    "\n",
    "    # Other operators\n",
    "    def __neg__(self): raise NotImplementedError # TODO, see indications below\n",
    "    \n",
    "    __radd__ = __add__\n",
    "    def __rsub__(self,other):     return self.convert(other)-self\n",
    "    # TODO : define __rmul__ and __rtruediv__ adequately. Hint : similar to __radd__, __rsub__\n",
    "    \n",
    "    # Special functions\n",
    "    def __pow__(self,r):\n",
    "        x,v = self.x,self.v\n",
    "        return Dense(x**r, r*x**(r-1) * v)\n",
    "    \n",
    "    def sqrt(self): \n",
    "        raise NotImplementedError # TODO. Hint : similar to __pow__\n",
    "    \n",
    "    def sin(self):\n",
    "        raise NotImplementedError # TODO. Hint : similar to __pow__\n",
    "\n",
    "    # Element access\n",
    "    def __getitem__(self,key):\n",
    "        return Dense(self.x[key],self.v[:,key])\n",
    "    def __setitem__(self,key,other):\n",
    "        a,b = self,self.convert(other)\n",
    "        a.x[key]   = b.x[key]\n",
    "        a.v[:,key] = b.v[:,key]\n",
    "   \n",
    "# Create some sample variables for testing purposes\n",
    "a = Dense(1.,[1.,2.]) # 1 + (h_0 + 2*h_1) + o(|h|)\n",
    "b = Dense(2.,[3.,4.]) # 2 + (3*h_0+4*h_1) + o(|h|)\n",
    "--->"
   ]
  },
  {
   "cell_type": "code",
   "execution_count": 2,
   "id": "productive-fields",
   "metadata": {},
   "outputs": [],
   "source": [
    "class Dense:\n",
    "    \"\"\"\n",
    "    A class for Dense, first order, forward automatic differentiation.\n",
    "    Members : \n",
    "    - x : an array of arbitrary shape (n_1,...,n_k)\n",
    "    - v : an array of shape (size_ad, n_1,...,n_k), where size_ad is arbitrary integer\n",
    "    \n",
    "    Represents the following Taylor expansion, where h is a symbolic perturbation\n",
    "    x + sum(h[i]*v[i] for i in range(size_ad)) + o(\\|h\\|)\n",
    "    \"\"\"\n",
    "    \n",
    "    def __init__(self,x,v):\n",
    "        self.x = x\n",
    "        self.v = np.asarray(v)\n",
    "        assert np.shape(x) == np.shape(v)[1:]\n",
    "    \n",
    "    def __repr__(self):\n",
    "        return f\"Dense({self.x},{self.v})\"\n",
    "    \n",
    "    @property\n",
    "    def size_ad(self): \n",
    "        \"\"\"The number of independent components of the symbolic perturbation (denoted h)\"\"\"\n",
    "        return len(self.v)\n",
    "    \n",
    "    def convert(self,other):\n",
    "        if isinstance(other,Dense): # Checks that self and other have matching size_ad\n",
    "            assert self.size_ad==other.size_ad \n",
    "            return other\n",
    "        else: # Return Dense object with matching size_ad\n",
    "            return Dense(other,np.zeros(shape=(self.size_ad,*np.shape(other))))\n",
    "    \n",
    "    # Base arithmetic operators\n",
    "    def __add__(self,other):\n",
    "        a,b = self,self.convert(other)\n",
    "        return Dense(a.x+b.x, a.v+b.v)\n",
    "    \n",
    "    def __sub__(self,other):\n",
    "        a,b = self,self.convert(other)\n",
    "        return Dense(a.x-b.x,a.v-b.v)\n",
    "    \n",
    "    def __mul__(self,other):\n",
    "        a,b = self,self.convert(other)\n",
    "        return Dense(a.x*b.x, a.x*b.v + a.v*b.x)\n",
    "\n",
    "    def __truediv__(self,other):\n",
    "        a,b = self,self.convert(other)\n",
    "        return Dense(a.x/b.x, a.v/b.x - a.x*b.v/b.x**2)\n",
    "\n",
    "    # Other operators\n",
    "    def __neg__(self): return Dense(-self.x,-self.v)\n",
    "    __radd__ = __add__\n",
    "    __rmul__ = __mul__\n",
    "    def __rsub__(self,other):     return self.convert(other)-self\n",
    "    def __rtruediv__(self,other): return self.convert(other)/self\n",
    "\n",
    "    \n",
    "    # Special functions\n",
    "    def __pow__(self,r):\n",
    "        x,v = self.x,self.v\n",
    "        return Dense(x**r, r*x**(r-1) * v)\n",
    "    \n",
    "    def sqrt(self): \n",
    "        s = np.sqrt(self.x)\n",
    "        return Dense(s,self.v/(2*s))\n",
    "    \n",
    "    def sin(self):\n",
    "        s,c = np.sin(self.x),np.cos(self.x)\n",
    "        return Dense(s,c*self.v)\n",
    "\n",
    "    # Element access\n",
    "    def __getitem__(self,key):\n",
    "        return Dense(self.x[key],self.v[:,key])\n",
    "    def __setitem__(self,key,other):\n",
    "        a,b = self,self.convert(other)\n",
    "        a.x[key]   = b.x[key]\n",
    "        a.v[:,key] = b.v[:,key]\n",
    "   \n",
    "# Create some sample variables for testing purposes\n",
    "a = Dense(1.,[1.,2.]) # 1 + (h_0 + 2*h_1) + o(|h|)\n",
    "b = Dense(2.,[3.,4.]) # 2 + (3*h_0+4*h_1) + o(|h|)"
   ]
  },
  {
   "cell_type": "code",
   "execution_count": 3,
   "id": "sufficient-republican",
   "metadata": {},
   "outputs": [],
   "source": [
    "def close_to_zzero(a): \n",
    "    \"\"\"Checks that a Taylor expansion has its zeroth and first order components close to zero.\"\"\"\n",
    "    return np.allclose(a.x,0) and np.allclose(a.v,0)"
   ]
  },
  {
   "cell_type": "markdown",
   "id": "hazardous-wilderness",
   "metadata": {},
   "source": [
    "### 1.1 String representation\n",
    "\n",
    "<!---ExoFR\n",
    "Implement the `Dense.__repr__` method. It should return a string containing a readable representation of the object, that (ideally) can be used to reconstruct it.\n",
    "--->"
   ]
  },
  {
   "cell_type": "code",
   "execution_count": 4,
   "id": "hybrid-break",
   "metadata": {},
   "outputs": [
    {
     "name": "stdout",
     "output_type": "stream",
     "text": [
      "I got the variables : 1 and bla (and also z=[1, 2, 3])\n"
     ]
    }
   ],
   "source": [
    "# Hint : Python's string formatting syntax\n",
    "x,y,z = 1,'bla',[1,2,3]\n",
    "print(f\"I got the variables : {x} and {y} (and also {z=})\")"
   ]
  },
  {
   "cell_type": "code",
   "execution_count": 5,
   "id": "every-repository",
   "metadata": {},
   "outputs": [
    {
     "name": "stdout",
     "output_type": "stream",
     "text": [
      "Dense(1.0,[1. 2.])\n"
     ]
    }
   ],
   "source": [
    "print(a)"
   ]
  },
  {
   "cell_type": "markdown",
   "id": "registered-outdoors",
   "metadata": {},
   "source": [
    "### 1.2 Arithmetic operators\n",
    "\n",
    "**Additive structure**\n",
    "The addition operator reflects the Taylor expansion rule:\n",
    "$$\n",
    "    (x + <v,h> + o(\\|h\\|)) + (x'+<v',h>+o(\\|h\\|)) = (x+x') + <(v+v'),h> + o(\\|h\\|)\n",
    "$$\n",
    "\n",
    "<!---ExoFR\n",
    "*Task:* Implement the `Dense.__add__` and `Dense.__sub__` methods. They must return a `Dense` object, in accordance with the Taylor expansion.\n",
    "--->"
   ]
  },
  {
   "cell_type": "code",
   "execution_count": 6,
   "id": "sacred-second",
   "metadata": {},
   "outputs": [
    {
     "name": "stdout",
     "output_type": "stream",
     "text": [
      "Addition : a+b=Dense(3.0,[4. 6.])\n",
      "Substraction : a-b=Dense(-1.0,[-2. -2.])\n"
     ]
    }
   ],
   "source": [
    "print(f\"Addition : {a+b=}\")     # Operator + is __add__\n",
    "print(f\"Substraction : {a-b=}\") # Operator - is __sub__"
   ]
  },
  {
   "cell_type": "code",
   "execution_count": 7,
   "id": "federal-drawing",
   "metadata": {},
   "outputs": [],
   "source": [
    "assert close_to_zzero(a+b-a-b) # Unit test for checking implementation"
   ]
  },
  {
   "cell_type": "markdown",
   "id": "irish-diploma",
   "metadata": {},
   "source": [
    "**Multiplicative structure**\n",
    "The multiplication operator reflects the Taylor expansion rule:\n",
    "$$\n",
    "    (x + <v,h> + o(\\|h\\|)) (x'+<v',h>+o(\\|h\\|)) = (x x') + <(x v'+x' v),h> + o(\\|h\\|)\n",
    "$$\n",
    "\n",
    "<!---ExoFR\n",
    "*Task:* Implement the `Dense.__mul__` method, which must be in accordance with the Taylor expansion.\n",
    "--->"
   ]
  },
  {
   "cell_type": "code",
   "execution_count": 8,
   "id": "upper-campaign",
   "metadata": {},
   "outputs": [
    {
     "name": "stdout",
     "output_type": "stream",
     "text": [
      "Multiplication a*b=Dense(2.0,[5. 8.])\n",
      "Division a/b=Dense(0.5,[-0.25  0.  ])\n"
     ]
    }
   ],
   "source": [
    "print(f\"Multiplication {a*b=}\")  # Operator * is __mul__\n",
    "print(f\"Division {a/b=}\")        # Operator / is __truediv__"
   ]
  },
  {
   "cell_type": "code",
   "execution_count": 9,
   "id": "starting-cowboy",
   "metadata": {},
   "outputs": [],
   "source": [
    "assert close_to_zzero(a*b/a/b - 1) # Unit test for checking implementation"
   ]
  },
  {
   "cell_type": "markdown",
   "id": "suburban-belize",
   "metadata": {},
   "source": [
    "### 1.3 Other arithmetic operators\n",
    "\n",
    "**Unary negation**\n",
    "\n",
    "<!---ExoFR\n",
    "Implement the unary negation `__neg__` operator.\n",
    "--->"
   ]
  },
  {
   "cell_type": "code",
   "execution_count": 10,
   "id": "convinced-batch",
   "metadata": {},
   "outputs": [
    {
     "name": "stdout",
     "output_type": "stream",
     "text": [
      "Unary negation -a=Dense(-1.0,[-1. -2.])\n"
     ]
    }
   ],
   "source": [
    "print(f\"Unary negation {-a=}\")"
   ]
  },
  {
   "cell_type": "code",
   "execution_count": 11,
   "id": "intimate-button",
   "metadata": {},
   "outputs": [],
   "source": [
    "assert close_to_zzero(-a+a) # Unit test for checking implementation"
   ]
  },
  {
   "cell_type": "markdown",
   "id": "recognized-lebanon",
   "metadata": {},
   "source": [
    "**Operators acting on the right**\n",
    "\n",
    "When the python interpreter encounters the expression `a-b`:\n",
    "- it attempts to evaluate it as `a.__sub__(b)`\n",
    "- it catches the error if the previous operation is not implemented, for instance if `a` is `float` and `b` is `Dense` \n",
    "- in the latter case, attempts to evaluate the sum as  `b.__rsub__(a)`\n",
    "\n",
    "Since addition and multiplication are commutative (for the mathematical object of interest here), their implementation is slightly simpler than substraction and division.\n",
    "\n",
    "**Multiplicative structure**\n",
    "\n",
    "<!---ExoFR\n",
    "Implement the `__rmul__` and `__rtruediv__` operations. \n",
    "--->"
   ]
  },
  {
   "cell_type": "code",
   "execution_count": 12,
   "id": "matched-postcard",
   "metadata": {},
   "outputs": [
    {
     "name": "stdout",
     "output_type": "stream",
     "text": [
      "Right multiplication 2*a=Dense(2.0,[2. 4.])\n",
      "Right division 2/a=Dense(2.0,[-2. -4.])\n"
     ]
    }
   ],
   "source": [
    "print(f\"Right multiplication {2*a=}\")\n",
    "print(f\"Right division {2/a=}\")"
   ]
  },
  {
   "cell_type": "code",
   "execution_count": 13,
   "id": "dominant-panel",
   "metadata": {},
   "outputs": [],
   "source": [
    "assert close_to_zzero((2.*(2./a))-4./a)"
   ]
  },
  {
   "cell_type": "markdown",
   "id": "fancy-allah",
   "metadata": {},
   "source": [
    "**Additive structure**\n",
    "\n",
    "<!---ExoFR\n",
    "Implement the `__radd__` and `__rsub__` operations. \n",
    "--->"
   ]
  },
  {
   "cell_type": "code",
   "execution_count": 14,
   "id": "guided-corps",
   "metadata": {},
   "outputs": [
    {
     "name": "stdout",
     "output_type": "stream",
     "text": [
      "Right addition 2+a=Dense(3.0,[1. 2.])\n",
      "Right substraction 2-a=Dense(1.0,[-1. -2.])\n"
     ]
    }
   ],
   "source": [
    "print(f\"Right addition {2+a=}\")\n",
    "print(f\"Right substraction {2-a=}\")"
   ]
  },
  {
   "cell_type": "code",
   "execution_count": 15,
   "id": "female-venue",
   "metadata": {},
   "outputs": [],
   "source": [
    "assert close_to_zzero((2.-(2.+a)) + a)"
   ]
  },
  {
   "cell_type": "markdown",
   "id": "varying-mauritius",
   "metadata": {},
   "source": [
    "### 1.4 Special functions\n",
    "\n",
    "Special functions, whose derivative is usually known explicitly, act on Taylor expansions as \n",
    "$$\n",
    "    f(x + <v,h> + o(\\|h\\|)) = f(x) + <f'(x) v, h> + o(h).\n",
    "$$\n",
    "\n",
    "<!---ExoFR\n",
    "Implement the `sqrt` and `sin` methods of the `Dense` class. \n",
    "--->"
   ]
  },
  {
   "cell_type": "code",
   "execution_count": 16,
   "id": "encouraging-validity",
   "metadata": {},
   "outputs": [
    {
     "name": "stdout",
     "output_type": "stream",
     "text": [
      "Square root function np.sqrt(a)=Dense(1.0,[0.5 1. ])\n",
      "Sine function np.sin(a)=Dense(0.8414709848078965,[0.54030231 1.08060461])\n"
     ]
    }
   ],
   "source": [
    "print(f\"Square root function {np.sqrt(a)=}\") # Member sqrt function is automatically called by numpy\n",
    "print(f\"Sine function {np.sin(a)=}\")         # Member sin  function is automatically called by numpy"
   ]
  },
  {
   "cell_type": "code",
   "execution_count": 17,
   "id": "declared-helicopter",
   "metadata": {},
   "outputs": [],
   "source": [
    "assert close_to_zzero(np.sqrt(a**2)-a)\n",
    "assert close_to_zzero(np.sin(np.pi-a) - np.sin(a))"
   ]
  },
  {
   "cell_type": "markdown",
   "id": "oriented-cabinet",
   "metadata": {},
   "source": [
    "## 2. Applications (one variable)\n",
    "\n",
    "We use the `Dense` automatic differentiation class to differentiate functions and solve for their roots.\n",
    "For that purpose, let us introduce an arbitrary test function, made from methods supported by our class."
   ]
  },
  {
   "cell_type": "code",
   "execution_count": 18,
   "id": "passing-tackle",
   "metadata": {},
   "outputs": [],
   "source": [
    "def f(x): return x + x**2 + np.sin(2*x) - 0.2"
   ]
  },
  {
   "cell_type": "markdown",
   "id": "neither-display",
   "metadata": {},
   "source": [
    "The function value and derivative at a point $x$ are contained in its first order Taylor expansion \n",
    "$$\n",
    "    f(x+h+o(h)) = f(x) + f'(x) h + o(h).\n",
    "$$\n",
    "For convenience, let us build a function that turns a scalar value $x$ into the formal Taylor expansion $x+h+o(h)$."
   ]
  },
  {
   "cell_type": "code",
   "execution_count": 19,
   "id": "considered-chicago",
   "metadata": {},
   "outputs": [],
   "source": [
    "def scalar_ad(x): return Dense(x,[1.])"
   ]
  },
  {
   "cell_type": "markdown",
   "id": "muslim-purpose",
   "metadata": {},
   "source": [
    "Now, as announced, we can get `f(x) = f(x_ad).x` and `f'(x) = f(x_ad).v[0]`, where `x_ad = scalar_ad(x)`."
   ]
  },
  {
   "cell_type": "code",
   "execution_count": 20,
   "id": "negative-password",
   "metadata": {},
   "outputs": [
    {
     "name": "stdout",
     "output_type": "stream",
     "text": [
      "Taylor expansion f(x_ad)=Dense(-0.2,[3.]) of f at 0.0\n",
      "f(x)=-0.2, and f'(x)=3.0\n"
     ]
    }
   ],
   "source": [
    "x=0.\n",
    "x_ad = scalar_ad(x) # x+h+o(h)\n",
    "print(f\"Taylor expansion {f(x_ad)=} of f at {x}\")\n",
    "print(f\"{f(x)=}, and f'(x)={f(x_ad).v[0]}\")"
   ]
  },
  {
   "cell_type": "markdown",
   "id": "czech-password",
   "metadata": {},
   "source": [
    "### 2.1 Solve an equation using the Newton method\n",
    "\n",
    "The basic Newton method to solve the equation \n",
    "$$\n",
    "    f(x)=0,\n",
    "$$\n",
    "is initialized from an arbitrary $x_0$, and then defines\n",
    "$$\n",
    "    x_{n+1} := x_n - f(x_n)/f'(x_n).\n",
    "$$\n",
    "Obviously, the `Dense` automatic differentiation class must be used in the method.\n",
    "\n",
    "<!---ExoFR\n",
    "Implement the Newton method, with a fixed number $N$ of iterations, returning the last value $x_N$.\n",
    "--->\n",
    "\n",
    "<!---ExoCode\n",
    "def Newton(f,x,niter):\n",
    "    for i in range(niter):\n",
    "        raise NotImplementedError # TODO, implement the Newton step \n",
    "    return x\n",
    "--->"
   ]
  },
  {
   "cell_type": "code",
   "execution_count": 21,
   "id": "double-eligibility",
   "metadata": {},
   "outputs": [],
   "source": [
    "def Newton(f,x,niter):\n",
    "    for i in range(niter):\n",
    "        x_ad = scalar_ad(x)\n",
    "        f_ad = f(x_ad)\n",
    "        x -= f_ad.x/f_ad.v[0]\n",
    "    return x"
   ]
  },
  {
   "cell_type": "code",
   "execution_count": 22,
   "id": "animal-richards",
   "metadata": {},
   "outputs": [
    {
     "name": "stdout",
     "output_type": "stream",
     "text": [
      "Solved for f : root=0.06536643515057672\n",
      "Residual : f(root)=0.0\n"
     ]
    }
   ],
   "source": [
    "root = Newton(f,0,10)\n",
    "print(f\"Solved for f : {root=}\")\n",
    "print(f\"Residual : {f(root)=}\")"
   ]
  },
  {
   "cell_type": "markdown",
   "id": "multiple-translator",
   "metadata": {},
   "source": [
    "### 2.2 Plot a function and its derivative\n",
    "\n",
    "Numpy is designed to automatically thread many operations over arrays, which is convenient for both readability and performance."
   ]
  },
  {
   "cell_type": "code",
   "execution_count": 23,
   "id": "arbitrary-lotus",
   "metadata": {},
   "outputs": [
    {
     "data": {
      "image/png": "[encoded data removed]",
      "text/plain": [
       "<Figure size 640x480 with 1 Axes>"
      ]
     },
     "metadata": {},
     "output_type": "display_data"
    }
   ],
   "source": [
    "X = np.linspace(-np.pi,np.pi,200)\n",
    "plt.plot(X,f(X),label=\"f(x)\")\n",
    "plt.xlabel(\"x\")\n",
    "plt.legend();"
   ]
  },
  {
   "cell_type": "markdown",
   "id": "outdoor-niagara",
   "metadata": {},
   "source": [
    "However our `scalar_ad` function is designed for single scalar value `x`, not an array of values.\n",
    "\n",
    "<!---ExoFR\n",
    "Modify the function `scalar_ad` to properly handle arrays of values.\n",
    "If `x` has shape $(n_1,...,n_k)$ then `v` should be an array of ones with shape $(1,n_1,...,n_k)$. \n",
    "(One can assume $k\\in\\{0,1\\}$ for simplicity.)\n",
    "--->\n",
    "\n",
    "<!---ExoCode\n",
    "def scalar_ad(x): raise NotImplementedError # TODO. Hint : np.ones\n",
    "--->"
   ]
  },
  {
   "cell_type": "code",
   "execution_count": 24,
   "id": "competitive-jaguar",
   "metadata": {},
   "outputs": [],
   "source": [
    "def scalar_ad(x): return Dense(x,np.ones((1,*np.shape(x))))"
   ]
  },
  {
   "cell_type": "code",
   "execution_count": 25,
   "id": "qualified-municipality",
   "metadata": {},
   "outputs": [
    {
     "data": {
      "image/png": "[encoded data removed]",
      "text/plain": [
       "<Figure size 640x480 with 1 Axes>"
      ]
     },
     "metadata": {},
     "output_type": "display_data"
    }
   ],
   "source": [
    "X_ad = scalar_ad(X)\n",
    "f_ad = f(X_ad)\n",
    "plt.plot(X,f_ad.x,label=\"f(x)\")\n",
    "plt.plot(X,f_ad.v[0],label=\"f'(x)\")\n",
    "plt.xlabel(\"x\")\n",
    "plt.legend();"
   ]
  },
  {
   "cell_type": "markdown",
   "id": "established-reconstruction",
   "metadata": {},
   "source": [
    "## 2. Applications (several variables)\n",
    "\n",
    "In several dimensions, it is convenient to construct vectors whose components are subject to independent symbolic perturbations.\n",
    "\n",
    "<!---ExoFR\n",
    "Complete the function `vector_ad` below. Given a vector $(x_i)_{1 \\leq i \\leq I}$, it should return a variable of `Dense` class representing the Taylor expansion\n",
    "$$\n",
    "    (x_i + h_i + o(h))_{1\\leq i \\leq I}.\n",
    "$$\n",
    "--->\n",
    "\n",
    "<!---ExoCode\n",
    "def vector_ad(x):\n",
    "    assert np.ndim(x)==1\n",
    "    raise NotImplementedError # TODO. Hint : np.eye\n",
    "--->"
   ]
  },
  {
   "cell_type": "code",
   "execution_count": 26,
   "id": "detailed-anchor",
   "metadata": {},
   "outputs": [],
   "source": [
    "def vector_ad(x):\n",
    "    assert np.ndim(x)==1\n",
    "    return Dense(x,np.eye(len(x)))"
   ]
  },
  {
   "cell_type": "markdown",
   "id": "competent-caution",
   "metadata": {},
   "source": [
    "### 2.1 Gradient descent\n",
    "\n",
    "We propose to use automatic differentiation to minimize a function by gradient descent."
   ]
  },
  {
   "cell_type": "code",
   "execution_count": 27,
   "id": "iraqi-conviction",
   "metadata": {},
   "outputs": [],
   "source": [
    "def f(x): return x[0]**2+x[1]**2 + np.sin(2*x[0])-np.sqrt(1+x[1]**2-x[1])"
   ]
  },
  {
   "cell_type": "code",
   "execution_count": 28,
   "id": "organic-mother",
   "metadata": {},
   "outputs": [
    {
     "name": "stdout",
     "output_type": "stream",
     "text": [
      "Value f(x)=4.177246619256804 and gradient [1.16770633 3.1339746 ] of f at x=[1.0, 2.0]\n"
     ]
    }
   ],
   "source": [
    "x=[1.,2.]\n",
    "x_ad = vector_ad(x)\n",
    "print(f\"Value {f(x)=} and gradient {f(x_ad).v} of f at {x=}\")"
   ]
  },
  {
   "cell_type": "code",
   "execution_count": 29,
   "id": "velvet-edwards",
   "metadata": {},
   "outputs": [
    {
     "data": {
      "image/png": "[encoded data removed]",
      "text/plain": [
       "<Figure size 640x480 with 2 Axes>"
      ]
     },
     "metadata": {},
     "output_type": "display_data"
    }
   ],
   "source": [
    "aX = np.linspace(-2,2,100)\n",
    "X = np.array(np.meshgrid(aX,aX,indexing='ij'))\n",
    "plt.contourf(*X,f(X))\n",
    "plt.colorbar();"
   ]
  },
  {
   "cell_type": "markdown",
   "id": "resident-cache",
   "metadata": {},
   "source": [
    "<!---ExoFR\n",
    "Implement the `GradientDescent` method.\n",
    "--->\n",
    "\n",
    "<!---ExoCode\n",
    "def GradientDescent(f,x,niter,step=0.1):\n",
    "    x_ = [x.copy()] # Append all intermediate steps to this list\n",
    "    for i in range(niter):\n",
    "        raise NotImplementedError # TODO\n",
    "    return x_\n",
    "--->"
   ]
  },
  {
   "cell_type": "code",
   "execution_count": 30,
   "id": "clear-importance",
   "metadata": {},
   "outputs": [],
   "source": [
    "def GradientDescent(f,x,niter,step=0.1):\n",
    "    x_ = [x.copy()]\n",
    "    x_ad = vector_ad(x)\n",
    "    for i in range(niter):\n",
    "        f_ad = f(x_ad)\n",
    "        x_ad.x -= step*f(x_ad).v\n",
    "        x_.append(x.copy())\n",
    "    return x_"
   ]
  },
  {
   "cell_type": "code",
   "execution_count": 31,
   "id": "induced-defeat",
   "metadata": {},
   "outputs": [],
   "source": [
    "x0 = np.array([1.5,1.5])\n",
    "x_ = GradientDescent(f,x0,30)"
   ]
  },
  {
   "cell_type": "code",
   "execution_count": 32,
   "id": "gross-sauce",
   "metadata": {},
   "outputs": [
    {
     "data": {
      "image/png": "[encoded data removed]",
      "text/plain": [
       "<Figure size 640x480 with 1 Axes>"
      ]
     },
     "metadata": {},
     "output_type": "display_data"
    }
   ],
   "source": [
    "plt.contourf(*X,f(X))\n",
    "plt.plot(*np.array(x_).T);"
   ]
  },
  {
   "cell_type": "markdown",
   "id": "breeding-wright",
   "metadata": {},
   "source": [
    "### 2.2 Hamilton's equations of geodesics\n",
    "\n",
    "Hamilton's equations characterize geodesics paths on manifolds, and appear in numerous other physical models as well. They read:\n",
    "$$\n",
    "    \\frac {dq}{dt} = \\partial_p H, \\qquad \\frac {dp}{dq} = -\\partial_q H.\n",
    "$$\n",
    "One of the simplest ODE schemes that preserves the Hamiltonian structure is Euler's symplectic scheme, defined as follows\n",
    "$$\n",
    "    q_{n+1} = q_n + \\delta \\partial_p H(q_n,p_n), \\qquad\n",
    "    p_{n+1} = p_n - \\delta \\partial_p H(q_{n+1},p_n),\n",
    "$$\n",
    "where $\\delta$ is the time step.\n",
    "\n",
    "<!---ExoFR\n",
    "Implement a basic ODE solver of Hamilton's equations, using automatic differentiation to differentiate the Hamiltonian.\n",
    "--->\n",
    "\n",
    "<!---ExoCode\n",
    "def Hamilton(H,q,p,niter,step=0.1):\n",
    "    q_ = [q.copy()] # Append all intermediate states to this list\n",
    "    p_ = [p.copy()] # Append all intermediate moments to this list\n",
    "    for i in range(niter):\n",
    "        raise NotImplementedError # TODO\n",
    "    return q_,p_\n",
    "--->"
   ]
  },
  {
   "cell_type": "code",
   "execution_count": 33,
   "id": "photographic-information",
   "metadata": {},
   "outputs": [],
   "source": [
    "def Hamilton(H,q,p,niter,step=0.1):\n",
    "    q_ = [q.copy()]\n",
    "    p_ = [p.copy()]\n",
    "    q_ad = vector_ad(q)\n",
    "    p_ad = vector_ad(p)\n",
    "    for i in range(niter):\n",
    "        q_ad.x += step* H(q,p_ad).v\n",
    "        p_ad.x -= step* H(q_ad,p).v\n",
    "        q_.append(q.copy())\n",
    "        p_.append(p.copy())\n",
    "    return q_,p_"
   ]
  },
  {
   "cell_type": "markdown",
   "id": "conditional-force",
   "metadata": {},
   "source": [
    "We use the Hamiltonian of the Poincare hyperbolic plane model, reading\n",
    "$$\n",
    "    H(q,p) = \\frac {q_1^2} 2 (p_0^2+p_1^2).\n",
    "$$\n",
    "It is defined for states $q \\in R \\times R_+$, and arbitrary impulsions $p \\in R^2$. One can prove that the geodesics for this model, obtained by solving Hamilton's equations of motion, follow circular arcs.\n",
    "\n",
    "<!---ExoFR\n",
    "Implement this Hamiltonian.\n",
    "--->\n",
    "\n",
    "<!---ExoCode\n",
    "def H(q,p): raise NotImplementedError\n",
    "--->"
   ]
  },
  {
   "cell_type": "code",
   "execution_count": 34,
   "id": "communist-knowing",
   "metadata": {},
   "outputs": [],
   "source": [
    "def H(q,p): return 0.5*q[1]**2 * (p[0]**2+p[1]**2)"
   ]
  },
  {
   "cell_type": "code",
   "execution_count": 35,
   "id": "strange-technique",
   "metadata": {},
   "outputs": [],
   "source": [
    "q = np.array([0.,1.])\n",
    "θ = 1.\n",
    "p = np.array([np.cos(θ),np.sin(θ)])\n",
    "\n",
    "q_,p_ = Hamilton(H,q,p,100)"
   ]
  },
  {
   "cell_type": "code",
   "execution_count": 36,
   "id": "pressed-girlfriend",
   "metadata": {},
   "outputs": [
    {
     "data": {
      "image/png": "[encoded data removed]",
      "text/plain": [
       "<Figure size 640x480 with 1 Axes>"
      ]
     },
     "metadata": {},
     "output_type": "display_data"
    }
   ],
   "source": [
    "plt.plot(*np.array(q_).T)\n",
    "plt.axis('equal');"
   ]
  },
  {
   "cell_type": "code",
   "execution_count": 37,
   "id": "unusual-quick",
   "metadata": {},
   "outputs": [
    {
     "data": {
      "image/png": "[encoded data removed]",
      "text/plain": [
       "<Figure size 640x480 with 1 Axes>"
      ]
     },
     "metadata": {},
     "output_type": "display_data"
    }
   ],
   "source": [
    "for θ in np.linspace(0,2*np.pi,20,endpoint=False):\n",
    "    q = np.array([0.,1.])\n",
    "    p = np.array([np.cos(θ),np.sin(θ)])\n",
    "    q_,p_ = Hamilton(H,q,p,50)\n",
    "    plt.plot(*np.array(q_).T)\n",
    "plt.axis('equal');\n",
    "plt.ylim(0,5);"
   ]
  },
  {
   "cell_type": "code",
   "execution_count": null,
   "id": "perfect-scanning",
   "metadata": {},
   "outputs": [],
   "source": []
  }
 ],
 "metadata": {
  "celltoolbar": "Format de la Cellule Texte Brut",
  "kernelspec": {
   "display_name": "Python 3 (ipykernel)",
   "language": "python",
   "name": "python3"
  },
  "language_info": {
   "codemirror_mode": {
    "name": "ipython",
    "version": 3
   },
   "file_extension": ".py",
   "mimetype": "text/x-python",
   "name": "python",
   "nbconvert_exporter": "python",
   "pygments_lexer": "ipython3",
   "version": "3.11.0"
  }
 },
 "nbformat": 4,
 "nbformat_minor": 5
}
